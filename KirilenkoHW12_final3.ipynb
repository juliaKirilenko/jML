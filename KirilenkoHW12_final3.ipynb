{
 "cells": [
  {
   "cell_type": "markdown",
   "metadata": {},
   "source": [
    "# Лабораторная работа №1\n",
    "# Выполнила Кириленко Юлия, 18 МАГ ИАД "
   ]
  },
  {
   "cell_type": "markdown",
   "metadata": {},
   "source": [
    "## Задача: \n",
    "необходимо определить, будут ли продажи игры в Европе больше продаж в других странах мира (кроме Северной Америки и Японии). "
   ]
  },
  {
   "cell_type": "markdown",
   "metadata": {},
   "source": [
    "## Атрибуты\n",
    "1. Name - название игры\n",
    "2. Platform - платформа, на которой работает игра\n",
    "3. Year_of_Release - год выхода \n",
    "4. Genre - жанр\n",
    "5. Publisher - издатель\n",
    "6. NA_Sales - продажи игры в Северной Америке (в миллионах единиц)\n",
    "7. EU_Sales - продажи игры в Европе (в миллионах единиц)\n",
    "8. JP_Sales - продажи игры в Японии (в миллионах единиц)\n",
    "9. Other_Sales - продажи игры в остальном мире, то есть в Африке, Азии (за исключением Японии), Австралии и Южной Америке (в миллионах единиц)\n",
    "10. Global_Sales - продажи игры в мире\n",
    "11. Critic_Score - общий балл, поставленный критиками Metacritic\n",
    "12. Critic_Count - количество критиков, участвовавших при создании Critic_score\n",
    "13. User_Score - общий балл, поставленный пользователями Metacritic\n",
    "15. User_Count - количество пользователей, которые дали user_score\n",
    "16. Developer - разработчик\n",
    "17. Rating - ESRB рейтинг (например, все, подросток, только для взрослых .. и т.д.)"
   ]
  },
  {
   "cell_type": "markdown",
   "metadata": {},
   "source": [
    "В наборе данные есть пропущенные значения"
   ]
  },
  {
   "cell_type": "markdown",
   "metadata": {},
   "source": [
    "Импортируем библиотеки"
   ]
  },
  {
   "cell_type": "code",
   "execution_count": 1,
   "metadata": {},
   "outputs": [],
   "source": [
    "import numpy as np\n",
    "import matplotlib.pyplot as plt\n",
    "import pandas as pd\n",
    "%matplotlib inline"
   ]
  },
  {
   "cell_type": "markdown",
   "metadata": {},
   "source": [
    "Читаем датасет"
   ]
  },
  {
   "cell_type": "code",
   "execution_count": 2,
   "metadata": {},
   "outputs": [],
   "source": [
    "data = pd.read_csv('Video_Games_Sales_as_at_22_Dec_2016.csv/Video_Games_Sales_as_at_22_Dec_2016.csv', engine = 'python')"
   ]
  },
  {
   "cell_type": "markdown",
   "metadata": {},
   "source": [
    "Узнаем тип данных и выводим первые и последние 5 записей"
   ]
  },
  {
   "cell_type": "code",
   "execution_count": 3,
   "metadata": {},
   "outputs": [
    {
     "data": {
      "text/plain": [
       "pandas.core.frame.DataFrame"
      ]
     },
     "execution_count": 3,
     "metadata": {},
     "output_type": "execute_result"
    }
   ],
   "source": [
    "type(data)"
   ]
  },
  {
   "cell_type": "code",
   "execution_count": 5,
   "metadata": {},
   "outputs": [
    {
     "data": {
      "text/html": [
       "<div>\n",
       "<style scoped>\n",
       "    .dataframe tbody tr th:only-of-type {\n",
       "        vertical-align: middle;\n",
       "    }\n",
       "\n",
       "    .dataframe tbody tr th {\n",
       "        vertical-align: top;\n",
       "    }\n",
       "\n",
       "    .dataframe thead th {\n",
       "        text-align: right;\n",
       "    }\n",
       "</style>\n",
       "<table border=\"1\" class=\"dataframe\">\n",
       "  <thead>\n",
       "    <tr style=\"text-align: right;\">\n",
       "      <th></th>\n",
       "      <th>Name</th>\n",
       "      <th>Platform</th>\n",
       "      <th>Year_of_Release</th>\n",
       "      <th>Genre</th>\n",
       "      <th>Publisher</th>\n",
       "      <th>NA_Sales</th>\n",
       "      <th>EU_Sales</th>\n",
       "      <th>JP_Sales</th>\n",
       "      <th>Other_Sales</th>\n",
       "      <th>Global_Sales</th>\n",
       "      <th>Critic_Score</th>\n",
       "      <th>Critic_Count</th>\n",
       "      <th>User_Score</th>\n",
       "      <th>User_Count</th>\n",
       "      <th>Developer</th>\n",
       "      <th>Rating</th>\n",
       "    </tr>\n",
       "  </thead>\n",
       "  <tbody>\n",
       "    <tr>\n",
       "      <th>0</th>\n",
       "      <td>Wii Sports</td>\n",
       "      <td>Wii</td>\n",
       "      <td>2006.0</td>\n",
       "      <td>Sports</td>\n",
       "      <td>Nintendo</td>\n",
       "      <td>41.36</td>\n",
       "      <td>28.96</td>\n",
       "      <td>3.77</td>\n",
       "      <td>8.45</td>\n",
       "      <td>82.53</td>\n",
       "      <td>76.0</td>\n",
       "      <td>51.0</td>\n",
       "      <td>8</td>\n",
       "      <td>322.0</td>\n",
       "      <td>Nintendo</td>\n",
       "      <td>E</td>\n",
       "    </tr>\n",
       "    <tr>\n",
       "      <th>1</th>\n",
       "      <td>Super Mario Bros.</td>\n",
       "      <td>NES</td>\n",
       "      <td>1985.0</td>\n",
       "      <td>Platform</td>\n",
       "      <td>Nintendo</td>\n",
       "      <td>29.08</td>\n",
       "      <td>3.58</td>\n",
       "      <td>6.81</td>\n",
       "      <td>0.77</td>\n",
       "      <td>40.24</td>\n",
       "      <td>NaN</td>\n",
       "      <td>NaN</td>\n",
       "      <td>NaN</td>\n",
       "      <td>NaN</td>\n",
       "      <td>NaN</td>\n",
       "      <td>NaN</td>\n",
       "    </tr>\n",
       "    <tr>\n",
       "      <th>2</th>\n",
       "      <td>Mario Kart Wii</td>\n",
       "      <td>Wii</td>\n",
       "      <td>2008.0</td>\n",
       "      <td>Racing</td>\n",
       "      <td>Nintendo</td>\n",
       "      <td>15.68</td>\n",
       "      <td>12.76</td>\n",
       "      <td>3.79</td>\n",
       "      <td>3.29</td>\n",
       "      <td>35.52</td>\n",
       "      <td>82.0</td>\n",
       "      <td>73.0</td>\n",
       "      <td>8.3</td>\n",
       "      <td>709.0</td>\n",
       "      <td>Nintendo</td>\n",
       "      <td>E</td>\n",
       "    </tr>\n",
       "    <tr>\n",
       "      <th>3</th>\n",
       "      <td>Wii Sports Resort</td>\n",
       "      <td>Wii</td>\n",
       "      <td>2009.0</td>\n",
       "      <td>Sports</td>\n",
       "      <td>Nintendo</td>\n",
       "      <td>15.61</td>\n",
       "      <td>10.93</td>\n",
       "      <td>3.28</td>\n",
       "      <td>2.95</td>\n",
       "      <td>32.77</td>\n",
       "      <td>80.0</td>\n",
       "      <td>73.0</td>\n",
       "      <td>8</td>\n",
       "      <td>192.0</td>\n",
       "      <td>Nintendo</td>\n",
       "      <td>E</td>\n",
       "    </tr>\n",
       "    <tr>\n",
       "      <th>4</th>\n",
       "      <td>Pokemon Red/Pokemon Blue</td>\n",
       "      <td>GB</td>\n",
       "      <td>1996.0</td>\n",
       "      <td>Role-Playing</td>\n",
       "      <td>Nintendo</td>\n",
       "      <td>11.27</td>\n",
       "      <td>8.89</td>\n",
       "      <td>10.22</td>\n",
       "      <td>1.00</td>\n",
       "      <td>31.37</td>\n",
       "      <td>NaN</td>\n",
       "      <td>NaN</td>\n",
       "      <td>NaN</td>\n",
       "      <td>NaN</td>\n",
       "      <td>NaN</td>\n",
       "      <td>NaN</td>\n",
       "    </tr>\n",
       "  </tbody>\n",
       "</table>\n",
       "</div>"
      ],
      "text/plain": [
       "                       Name Platform  Year_of_Release         Genre Publisher  \\\n",
       "0                Wii Sports      Wii           2006.0        Sports  Nintendo   \n",
       "1         Super Mario Bros.      NES           1985.0      Platform  Nintendo   \n",
       "2            Mario Kart Wii      Wii           2008.0        Racing  Nintendo   \n",
       "3         Wii Sports Resort      Wii           2009.0        Sports  Nintendo   \n",
       "4  Pokemon Red/Pokemon Blue       GB           1996.0  Role-Playing  Nintendo   \n",
       "\n",
       "   NA_Sales  EU_Sales  JP_Sales  Other_Sales  Global_Sales  Critic_Score  \\\n",
       "0     41.36     28.96      3.77         8.45         82.53          76.0   \n",
       "1     29.08      3.58      6.81         0.77         40.24           NaN   \n",
       "2     15.68     12.76      3.79         3.29         35.52          82.0   \n",
       "3     15.61     10.93      3.28         2.95         32.77          80.0   \n",
       "4     11.27      8.89     10.22         1.00         31.37           NaN   \n",
       "\n",
       "   Critic_Count User_Score  User_Count Developer Rating  \n",
       "0          51.0          8       322.0  Nintendo      E  \n",
       "1           NaN        NaN         NaN       NaN    NaN  \n",
       "2          73.0        8.3       709.0  Nintendo      E  \n",
       "3          73.0          8       192.0  Nintendo      E  \n",
       "4           NaN        NaN         NaN       NaN    NaN  "
      ]
     },
     "execution_count": 5,
     "metadata": {},
     "output_type": "execute_result"
    }
   ],
   "source": [
    "data.head()"
   ]
  },
  {
   "cell_type": "code",
   "execution_count": 5,
   "metadata": {},
   "outputs": [
    {
     "data": {
      "text/html": [
       "<div>\n",
       "<style scoped>\n",
       "    .dataframe tbody tr th:only-of-type {\n",
       "        vertical-align: middle;\n",
       "    }\n",
       "\n",
       "    .dataframe tbody tr th {\n",
       "        vertical-align: top;\n",
       "    }\n",
       "\n",
       "    .dataframe thead th {\n",
       "        text-align: right;\n",
       "    }\n",
       "</style>\n",
       "<table border=\"1\" class=\"dataframe\">\n",
       "  <thead>\n",
       "    <tr style=\"text-align: right;\">\n",
       "      <th></th>\n",
       "      <th>Name</th>\n",
       "      <th>Platform</th>\n",
       "      <th>Year_of_Release</th>\n",
       "      <th>Genre</th>\n",
       "      <th>Publisher</th>\n",
       "      <th>NA_Sales</th>\n",
       "      <th>EU_Sales</th>\n",
       "      <th>JP_Sales</th>\n",
       "      <th>Other_Sales</th>\n",
       "      <th>Global_Sales</th>\n",
       "      <th>Critic_Score</th>\n",
       "      <th>Critic_Count</th>\n",
       "      <th>User_Score</th>\n",
       "      <th>User_Count</th>\n",
       "      <th>Developer</th>\n",
       "      <th>Rating</th>\n",
       "    </tr>\n",
       "  </thead>\n",
       "  <tbody>\n",
       "    <tr>\n",
       "      <th>16714</th>\n",
       "      <td>Samurai Warriors: Sanada Maru</td>\n",
       "      <td>PS3</td>\n",
       "      <td>2016.0</td>\n",
       "      <td>Action</td>\n",
       "      <td>Tecmo Koei</td>\n",
       "      <td>0.00</td>\n",
       "      <td>0.00</td>\n",
       "      <td>0.01</td>\n",
       "      <td>0.0</td>\n",
       "      <td>0.01</td>\n",
       "      <td>NaN</td>\n",
       "      <td>NaN</td>\n",
       "      <td>NaN</td>\n",
       "      <td>NaN</td>\n",
       "      <td>NaN</td>\n",
       "      <td>NaN</td>\n",
       "    </tr>\n",
       "    <tr>\n",
       "      <th>16715</th>\n",
       "      <td>LMA Manager 2007</td>\n",
       "      <td>X360</td>\n",
       "      <td>2006.0</td>\n",
       "      <td>Sports</td>\n",
       "      <td>Codemasters</td>\n",
       "      <td>0.00</td>\n",
       "      <td>0.01</td>\n",
       "      <td>0.00</td>\n",
       "      <td>0.0</td>\n",
       "      <td>0.01</td>\n",
       "      <td>NaN</td>\n",
       "      <td>NaN</td>\n",
       "      <td>NaN</td>\n",
       "      <td>NaN</td>\n",
       "      <td>NaN</td>\n",
       "      <td>NaN</td>\n",
       "    </tr>\n",
       "    <tr>\n",
       "      <th>16716</th>\n",
       "      <td>Haitaka no Psychedelica</td>\n",
       "      <td>PSV</td>\n",
       "      <td>2016.0</td>\n",
       "      <td>Adventure</td>\n",
       "      <td>Idea Factory</td>\n",
       "      <td>0.00</td>\n",
       "      <td>0.00</td>\n",
       "      <td>0.01</td>\n",
       "      <td>0.0</td>\n",
       "      <td>0.01</td>\n",
       "      <td>NaN</td>\n",
       "      <td>NaN</td>\n",
       "      <td>NaN</td>\n",
       "      <td>NaN</td>\n",
       "      <td>NaN</td>\n",
       "      <td>NaN</td>\n",
       "    </tr>\n",
       "    <tr>\n",
       "      <th>16717</th>\n",
       "      <td>Spirits &amp; Spells</td>\n",
       "      <td>GBA</td>\n",
       "      <td>2003.0</td>\n",
       "      <td>Platform</td>\n",
       "      <td>Wanadoo</td>\n",
       "      <td>0.01</td>\n",
       "      <td>0.00</td>\n",
       "      <td>0.00</td>\n",
       "      <td>0.0</td>\n",
       "      <td>0.01</td>\n",
       "      <td>NaN</td>\n",
       "      <td>NaN</td>\n",
       "      <td>NaN</td>\n",
       "      <td>NaN</td>\n",
       "      <td>NaN</td>\n",
       "      <td>NaN</td>\n",
       "    </tr>\n",
       "    <tr>\n",
       "      <th>16718</th>\n",
       "      <td>Winning Post 8 2016</td>\n",
       "      <td>PSV</td>\n",
       "      <td>2016.0</td>\n",
       "      <td>Simulation</td>\n",
       "      <td>Tecmo Koei</td>\n",
       "      <td>0.00</td>\n",
       "      <td>0.00</td>\n",
       "      <td>0.01</td>\n",
       "      <td>0.0</td>\n",
       "      <td>0.01</td>\n",
       "      <td>NaN</td>\n",
       "      <td>NaN</td>\n",
       "      <td>NaN</td>\n",
       "      <td>NaN</td>\n",
       "      <td>NaN</td>\n",
       "      <td>NaN</td>\n",
       "    </tr>\n",
       "  </tbody>\n",
       "</table>\n",
       "</div>"
      ],
      "text/plain": [
       "                                Name Platform  Year_of_Release       Genre  \\\n",
       "16714  Samurai Warriors: Sanada Maru      PS3           2016.0      Action   \n",
       "16715               LMA Manager 2007     X360           2006.0      Sports   \n",
       "16716        Haitaka no Psychedelica      PSV           2016.0   Adventure   \n",
       "16717               Spirits & Spells      GBA           2003.0    Platform   \n",
       "16718            Winning Post 8 2016      PSV           2016.0  Simulation   \n",
       "\n",
       "          Publisher  NA_Sales  EU_Sales  JP_Sales  Other_Sales  Global_Sales  \\\n",
       "16714    Tecmo Koei      0.00      0.00      0.01          0.0          0.01   \n",
       "16715   Codemasters      0.00      0.01      0.00          0.0          0.01   \n",
       "16716  Idea Factory      0.00      0.00      0.01          0.0          0.01   \n",
       "16717       Wanadoo      0.01      0.00      0.00          0.0          0.01   \n",
       "16718    Tecmo Koei      0.00      0.00      0.01          0.0          0.01   \n",
       "\n",
       "       Critic_Score  Critic_Count User_Score  User_Count Developer Rating  \n",
       "16714           NaN           NaN        NaN         NaN       NaN    NaN  \n",
       "16715           NaN           NaN        NaN         NaN       NaN    NaN  \n",
       "16716           NaN           NaN        NaN         NaN       NaN    NaN  \n",
       "16717           NaN           NaN        NaN         NaN       NaN    NaN  \n",
       "16718           NaN           NaN        NaN         NaN       NaN    NaN  "
      ]
     },
     "execution_count": 5,
     "metadata": {},
     "output_type": "execute_result"
    }
   ],
   "source": [
    "data.tail()"
   ]
  },
  {
   "cell_type": "markdown",
   "metadata": {},
   "source": [
    "Выводим размерность и названия столбцов"
   ]
  },
  {
   "cell_type": "code",
   "execution_count": 18,
   "metadata": {},
   "outputs": [
    {
     "name": "stdout",
     "output_type": "stream",
     "text": [
      "(16719, 14)\n",
      "Index(['Name', 'Platform', 'Year_of_Release', 'Genre', 'Publisher', 'NA_Sales',\n",
      "       'JP_Sales', 'Other_Sales', 'Critic_Score', 'Critic_Count', 'User_Score',\n",
      "       'User_Count', 'Developer', 'Rating'],\n",
      "      dtype='object')\n"
     ]
    }
   ],
   "source": [
    "print(data.shape)\n",
    "print(data.columns)"
   ]
  },
  {
   "cell_type": "markdown",
   "metadata": {},
   "source": [
    "Определяем количество записей и выводим значения атрибута Genre"
   ]
  },
  {
   "cell_type": "code",
   "execution_count": 10,
   "metadata": {},
   "outputs": [
    {
     "data": {
      "text/plain": [
       "RangeIndex(start=0, stop=16719, step=1)"
      ]
     },
     "execution_count": 10,
     "metadata": {},
     "output_type": "execute_result"
    }
   ],
   "source": [
    "data.index"
   ]
  },
  {
   "cell_type": "code",
   "execution_count": 15,
   "metadata": {},
   "outputs": [
    {
     "data": {
      "text/plain": [
       "'Racing'"
      ]
     },
     "execution_count": 15,
     "metadata": {},
     "output_type": "execute_result"
    }
   ],
   "source": [
    "data.at[2, 'Genre']"
   ]
  },
  {
   "cell_type": "code",
   "execution_count": 16,
   "metadata": {},
   "outputs": [
    {
     "data": {
      "text/plain": [
       "0              Sports\n",
       "1            Platform\n",
       "2              Racing\n",
       "3              Sports\n",
       "4        Role-Playing\n",
       "5              Puzzle\n",
       "6            Platform\n",
       "7                Misc\n",
       "8            Platform\n",
       "9             Shooter\n",
       "10         Simulation\n",
       "11             Racing\n",
       "12       Role-Playing\n",
       "13             Sports\n",
       "14               Misc\n",
       "15             Sports\n",
       "16             Action\n",
       "17             Action\n",
       "18           Platform\n",
       "19               Misc\n",
       "20       Role-Playing\n",
       "21           Platform\n",
       "22           Platform\n",
       "23             Action\n",
       "24             Action\n",
       "25       Role-Playing\n",
       "26             Puzzle\n",
       "27       Role-Playing\n",
       "28             Racing\n",
       "29            Shooter\n",
       "             ...     \n",
       "16689      Simulation\n",
       "16690          Racing\n",
       "16691       Adventure\n",
       "16692          Sports\n",
       "16693       Adventure\n",
       "16694      Simulation\n",
       "16695          Action\n",
       "16696          Action\n",
       "16697          Sports\n",
       "16698          Action\n",
       "16699          Action\n",
       "16700         Shooter\n",
       "16701          Puzzle\n",
       "16702          Puzzle\n",
       "16703          Action\n",
       "16704          Sports\n",
       "16705    Role-Playing\n",
       "16706        Strategy\n",
       "16707       Adventure\n",
       "16708      Simulation\n",
       "16709       Adventure\n",
       "16710         Shooter\n",
       "16711            Misc\n",
       "16712        Platform\n",
       "16713          Racing\n",
       "16714          Action\n",
       "16715          Sports\n",
       "16716       Adventure\n",
       "16717        Platform\n",
       "16718      Simulation\n",
       "Name: Genre, Length: 16719, dtype: object"
      ]
     },
     "execution_count": 16,
     "metadata": {},
     "output_type": "execute_result"
    }
   ],
   "source": [
    "data['Genre']"
   ]
  },
  {
   "cell_type": "code",
   "execution_count": 17,
   "metadata": {},
   "outputs": [
    {
     "data": {
      "text/plain": [
       "'Sports'"
      ]
     },
     "execution_count": 17,
     "metadata": {},
     "output_type": "execute_result"
    }
   ],
   "source": [
    "data['Genre'][3]"
   ]
  },
  {
   "cell_type": "markdown",
   "metadata": {},
   "source": [
    "Определяем типы различных атрибутов и выводим первые 5 значений"
   ]
  },
  {
   "cell_type": "code",
   "execution_count": 18,
   "metadata": {},
   "outputs": [
    {
     "data": {
      "text/plain": [
       "'float64'"
      ]
     },
     "execution_count": 18,
     "metadata": {},
     "output_type": "execute_result"
    }
   ],
   "source": [
    "data['NA_Sales'].dtype.name"
   ]
  },
  {
   "cell_type": "code",
   "execution_count": 19,
   "metadata": {},
   "outputs": [
    {
     "data": {
      "text/plain": [
       "str"
      ]
     },
     "execution_count": 19,
     "metadata": {},
     "output_type": "execute_result"
    }
   ],
   "source": [
    "type(data['Genre'][3])"
   ]
  },
  {
   "cell_type": "code",
   "execution_count": 20,
   "metadata": {},
   "outputs": [
    {
     "data": {
      "text/plain": [
       "pandas.core.series.Series"
      ]
     },
     "execution_count": 20,
     "metadata": {},
     "output_type": "execute_result"
    }
   ],
   "source": [
    "type(data['Genre'])"
   ]
  },
  {
   "cell_type": "code",
   "execution_count": 21,
   "metadata": {},
   "outputs": [
    {
     "data": {
      "text/html": [
       "<div>\n",
       "<style scoped>\n",
       "    .dataframe tbody tr th:only-of-type {\n",
       "        vertical-align: middle;\n",
       "    }\n",
       "\n",
       "    .dataframe tbody tr th {\n",
       "        vertical-align: top;\n",
       "    }\n",
       "\n",
       "    .dataframe thead th {\n",
       "        text-align: right;\n",
       "    }\n",
       "</style>\n",
       "<table border=\"1\" class=\"dataframe\">\n",
       "  <thead>\n",
       "    <tr style=\"text-align: right;\">\n",
       "      <th></th>\n",
       "      <th>Genre</th>\n",
       "      <th>Publisher</th>\n",
       "    </tr>\n",
       "  </thead>\n",
       "  <tbody>\n",
       "    <tr>\n",
       "      <th>0</th>\n",
       "      <td>Sports</td>\n",
       "      <td>Nintendo</td>\n",
       "    </tr>\n",
       "    <tr>\n",
       "      <th>1</th>\n",
       "      <td>Platform</td>\n",
       "      <td>Nintendo</td>\n",
       "    </tr>\n",
       "    <tr>\n",
       "      <th>2</th>\n",
       "      <td>Racing</td>\n",
       "      <td>Nintendo</td>\n",
       "    </tr>\n",
       "    <tr>\n",
       "      <th>3</th>\n",
       "      <td>Sports</td>\n",
       "      <td>Nintendo</td>\n",
       "    </tr>\n",
       "    <tr>\n",
       "      <th>4</th>\n",
       "      <td>Role-Playing</td>\n",
       "      <td>Nintendo</td>\n",
       "    </tr>\n",
       "  </tbody>\n",
       "</table>\n",
       "</div>"
      ],
      "text/plain": [
       "          Genre Publisher\n",
       "0        Sports  Nintendo\n",
       "1      Platform  Nintendo\n",
       "2        Racing  Nintendo\n",
       "3        Sports  Nintendo\n",
       "4  Role-Playing  Nintendo"
      ]
     },
     "execution_count": 21,
     "metadata": {},
     "output_type": "execute_result"
    }
   ],
   "source": [
    "data[['Genre', 'Publisher']].head()"
   ]
  },
  {
   "cell_type": "markdown",
   "metadata": {},
   "source": [
    "Выводим описательную статистику по числовым атрибутам"
   ]
  },
  {
   "cell_type": "code",
   "execution_count": 22,
   "metadata": {},
   "outputs": [
    {
     "data": {
      "text/html": [
       "<div>\n",
       "<style scoped>\n",
       "    .dataframe tbody tr th:only-of-type {\n",
       "        vertical-align: middle;\n",
       "    }\n",
       "\n",
       "    .dataframe tbody tr th {\n",
       "        vertical-align: top;\n",
       "    }\n",
       "\n",
       "    .dataframe thead th {\n",
       "        text-align: right;\n",
       "    }\n",
       "</style>\n",
       "<table border=\"1\" class=\"dataframe\">\n",
       "  <thead>\n",
       "    <tr style=\"text-align: right;\">\n",
       "      <th></th>\n",
       "      <th>Year_of_Release</th>\n",
       "      <th>NA_Sales</th>\n",
       "      <th>EU_Sales</th>\n",
       "      <th>JP_Sales</th>\n",
       "      <th>Other_Sales</th>\n",
       "      <th>Global_Sales</th>\n",
       "      <th>Critic_Score</th>\n",
       "      <th>Critic_Count</th>\n",
       "      <th>User_Count</th>\n",
       "    </tr>\n",
       "  </thead>\n",
       "  <tbody>\n",
       "    <tr>\n",
       "      <th>count</th>\n",
       "      <td>16450.000000</td>\n",
       "      <td>16719.000000</td>\n",
       "      <td>16719.000000</td>\n",
       "      <td>16719.000000</td>\n",
       "      <td>16719.000000</td>\n",
       "      <td>16719.000000</td>\n",
       "      <td>8137.000000</td>\n",
       "      <td>8137.000000</td>\n",
       "      <td>7590.000000</td>\n",
       "    </tr>\n",
       "    <tr>\n",
       "      <th>mean</th>\n",
       "      <td>2006.487356</td>\n",
       "      <td>0.263330</td>\n",
       "      <td>0.145025</td>\n",
       "      <td>0.077602</td>\n",
       "      <td>0.047332</td>\n",
       "      <td>0.533543</td>\n",
       "      <td>68.967679</td>\n",
       "      <td>26.360821</td>\n",
       "      <td>162.229908</td>\n",
       "    </tr>\n",
       "    <tr>\n",
       "      <th>std</th>\n",
       "      <td>5.878995</td>\n",
       "      <td>0.813514</td>\n",
       "      <td>0.503283</td>\n",
       "      <td>0.308818</td>\n",
       "      <td>0.186710</td>\n",
       "      <td>1.547935</td>\n",
       "      <td>13.938165</td>\n",
       "      <td>18.980495</td>\n",
       "      <td>561.282326</td>\n",
       "    </tr>\n",
       "    <tr>\n",
       "      <th>min</th>\n",
       "      <td>1980.000000</td>\n",
       "      <td>0.000000</td>\n",
       "      <td>0.000000</td>\n",
       "      <td>0.000000</td>\n",
       "      <td>0.000000</td>\n",
       "      <td>0.010000</td>\n",
       "      <td>13.000000</td>\n",
       "      <td>3.000000</td>\n",
       "      <td>4.000000</td>\n",
       "    </tr>\n",
       "    <tr>\n",
       "      <th>25%</th>\n",
       "      <td>2003.000000</td>\n",
       "      <td>0.000000</td>\n",
       "      <td>0.000000</td>\n",
       "      <td>0.000000</td>\n",
       "      <td>0.000000</td>\n",
       "      <td>0.060000</td>\n",
       "      <td>60.000000</td>\n",
       "      <td>12.000000</td>\n",
       "      <td>10.000000</td>\n",
       "    </tr>\n",
       "    <tr>\n",
       "      <th>50%</th>\n",
       "      <td>2007.000000</td>\n",
       "      <td>0.080000</td>\n",
       "      <td>0.020000</td>\n",
       "      <td>0.000000</td>\n",
       "      <td>0.010000</td>\n",
       "      <td>0.170000</td>\n",
       "      <td>71.000000</td>\n",
       "      <td>21.000000</td>\n",
       "      <td>24.000000</td>\n",
       "    </tr>\n",
       "    <tr>\n",
       "      <th>75%</th>\n",
       "      <td>2010.000000</td>\n",
       "      <td>0.240000</td>\n",
       "      <td>0.110000</td>\n",
       "      <td>0.040000</td>\n",
       "      <td>0.030000</td>\n",
       "      <td>0.470000</td>\n",
       "      <td>79.000000</td>\n",
       "      <td>36.000000</td>\n",
       "      <td>81.000000</td>\n",
       "    </tr>\n",
       "    <tr>\n",
       "      <th>max</th>\n",
       "      <td>2020.000000</td>\n",
       "      <td>41.360000</td>\n",
       "      <td>28.960000</td>\n",
       "      <td>10.220000</td>\n",
       "      <td>10.570000</td>\n",
       "      <td>82.530000</td>\n",
       "      <td>98.000000</td>\n",
       "      <td>113.000000</td>\n",
       "      <td>10665.000000</td>\n",
       "    </tr>\n",
       "  </tbody>\n",
       "</table>\n",
       "</div>"
      ],
      "text/plain": [
       "       Year_of_Release      NA_Sales      EU_Sales      JP_Sales  \\\n",
       "count     16450.000000  16719.000000  16719.000000  16719.000000   \n",
       "mean       2006.487356      0.263330      0.145025      0.077602   \n",
       "std           5.878995      0.813514      0.503283      0.308818   \n",
       "min        1980.000000      0.000000      0.000000      0.000000   \n",
       "25%        2003.000000      0.000000      0.000000      0.000000   \n",
       "50%        2007.000000      0.080000      0.020000      0.000000   \n",
       "75%        2010.000000      0.240000      0.110000      0.040000   \n",
       "max        2020.000000     41.360000     28.960000     10.220000   \n",
       "\n",
       "        Other_Sales  Global_Sales  Critic_Score  Critic_Count    User_Count  \n",
       "count  16719.000000  16719.000000   8137.000000   8137.000000   7590.000000  \n",
       "mean       0.047332      0.533543     68.967679     26.360821    162.229908  \n",
       "std        0.186710      1.547935     13.938165     18.980495    561.282326  \n",
       "min        0.000000      0.010000     13.000000      3.000000      4.000000  \n",
       "25%        0.000000      0.060000     60.000000     12.000000     10.000000  \n",
       "50%        0.010000      0.170000     71.000000     21.000000     24.000000  \n",
       "75%        0.030000      0.470000     79.000000     36.000000     81.000000  \n",
       "max       10.570000     82.530000     98.000000    113.000000  10665.000000  "
      ]
     },
     "execution_count": 22,
     "metadata": {},
     "output_type": "execute_result"
    }
   ],
   "source": [
    "data.describe()"
   ]
  },
  {
   "cell_type": "markdown",
   "metadata": {},
   "source": [
    "Строим диаграмму рассеяния и выводим матрицу корреляции атрибутов"
   ]
  },
  {
   "cell_type": "code",
   "execution_count": 23,
   "metadata": {},
   "outputs": [
    {
     "name": "stderr",
     "output_type": "stream",
     "text": [
      "C:\\anaconda\\lib\\site-packages\\ipykernel_launcher.py:2: FutureWarning: 'pandas.tools.plotting.scatter_matrix' is deprecated, import 'pandas.plotting.scatter_matrix' instead.\n",
      "  \n"
     ]
    },
    {
     "data": {
      "image/png": "[encoded data removed]",
      "text/plain": [
       "<Figure size 720x720 with 81 Axes>"
      ]
     },
     "metadata": {},
     "output_type": "display_data"
    }
   ],
   "source": [
    "from pandas.tools.plotting import scatter_matrix\n",
    "scatter_matrix(data, alpha = .01, figsize = (10, 10))\n",
    "pass"
   ]
  },
  {
   "cell_type": "code",
   "execution_count": 24,
   "metadata": {},
   "outputs": [
    {
     "data": {
      "text/html": [
       "<div>\n",
       "<style scoped>\n",
       "    .dataframe tbody tr th:only-of-type {\n",
       "        vertical-align: middle;\n",
       "    }\n",
       "\n",
       "    .dataframe tbody tr th {\n",
       "        vertical-align: top;\n",
       "    }\n",
       "\n",
       "    .dataframe thead th {\n",
       "        text-align: right;\n",
       "    }\n",
       "</style>\n",
       "<table border=\"1\" class=\"dataframe\">\n",
       "  <thead>\n",
       "    <tr style=\"text-align: right;\">\n",
       "      <th></th>\n",
       "      <th>Year_of_Release</th>\n",
       "      <th>NA_Sales</th>\n",
       "      <th>EU_Sales</th>\n",
       "      <th>JP_Sales</th>\n",
       "      <th>Other_Sales</th>\n",
       "      <th>Global_Sales</th>\n",
       "      <th>Critic_Score</th>\n",
       "      <th>Critic_Count</th>\n",
       "      <th>User_Count</th>\n",
       "    </tr>\n",
       "  </thead>\n",
       "  <tbody>\n",
       "    <tr>\n",
       "      <th>Year_of_Release</th>\n",
       "      <td>1.000000</td>\n",
       "      <td>-0.092562</td>\n",
       "      <td>0.003842</td>\n",
       "      <td>-0.168386</td>\n",
       "      <td>0.037700</td>\n",
       "      <td>-0.076433</td>\n",
       "      <td>0.011411</td>\n",
       "      <td>0.223407</td>\n",
       "      <td>0.175339</td>\n",
       "    </tr>\n",
       "    <tr>\n",
       "      <th>NA_Sales</th>\n",
       "      <td>-0.092562</td>\n",
       "      <td>1.000000</td>\n",
       "      <td>0.765336</td>\n",
       "      <td>0.449598</td>\n",
       "      <td>0.638654</td>\n",
       "      <td>0.941010</td>\n",
       "      <td>0.240755</td>\n",
       "      <td>0.295413</td>\n",
       "      <td>0.246429</td>\n",
       "    </tr>\n",
       "    <tr>\n",
       "      <th>EU_Sales</th>\n",
       "      <td>0.003842</td>\n",
       "      <td>0.765336</td>\n",
       "      <td>1.000000</td>\n",
       "      <td>0.435068</td>\n",
       "      <td>0.722796</td>\n",
       "      <td>0.901239</td>\n",
       "      <td>0.220752</td>\n",
       "      <td>0.277533</td>\n",
       "      <td>0.283360</td>\n",
       "    </tr>\n",
       "    <tr>\n",
       "      <th>JP_Sales</th>\n",
       "      <td>-0.168386</td>\n",
       "      <td>0.449598</td>\n",
       "      <td>0.435068</td>\n",
       "      <td>1.000000</td>\n",
       "      <td>0.291096</td>\n",
       "      <td>0.612300</td>\n",
       "      <td>0.152593</td>\n",
       "      <td>0.180219</td>\n",
       "      <td>0.075638</td>\n",
       "    </tr>\n",
       "    <tr>\n",
       "      <th>Other_Sales</th>\n",
       "      <td>0.037700</td>\n",
       "      <td>0.638654</td>\n",
       "      <td>0.722796</td>\n",
       "      <td>0.291096</td>\n",
       "      <td>1.000000</td>\n",
       "      <td>0.749242</td>\n",
       "      <td>0.198554</td>\n",
       "      <td>0.251639</td>\n",
       "      <td>0.238982</td>\n",
       "    </tr>\n",
       "    <tr>\n",
       "      <th>Global_Sales</th>\n",
       "      <td>-0.076433</td>\n",
       "      <td>0.941010</td>\n",
       "      <td>0.901239</td>\n",
       "      <td>0.612300</td>\n",
       "      <td>0.749242</td>\n",
       "      <td>1.000000</td>\n",
       "      <td>0.245471</td>\n",
       "      <td>0.303571</td>\n",
       "      <td>0.265012</td>\n",
       "    </tr>\n",
       "    <tr>\n",
       "      <th>Critic_Score</th>\n",
       "      <td>0.011411</td>\n",
       "      <td>0.240755</td>\n",
       "      <td>0.220752</td>\n",
       "      <td>0.152593</td>\n",
       "      <td>0.198554</td>\n",
       "      <td>0.245471</td>\n",
       "      <td>1.000000</td>\n",
       "      <td>0.425504</td>\n",
       "      <td>0.264376</td>\n",
       "    </tr>\n",
       "    <tr>\n",
       "      <th>Critic_Count</th>\n",
       "      <td>0.223407</td>\n",
       "      <td>0.295413</td>\n",
       "      <td>0.277533</td>\n",
       "      <td>0.180219</td>\n",
       "      <td>0.251639</td>\n",
       "      <td>0.303571</td>\n",
       "      <td>0.425504</td>\n",
       "      <td>1.000000</td>\n",
       "      <td>0.362334</td>\n",
       "    </tr>\n",
       "    <tr>\n",
       "      <th>User_Count</th>\n",
       "      <td>0.175339</td>\n",
       "      <td>0.246429</td>\n",
       "      <td>0.283360</td>\n",
       "      <td>0.075638</td>\n",
       "      <td>0.238982</td>\n",
       "      <td>0.265012</td>\n",
       "      <td>0.264376</td>\n",
       "      <td>0.362334</td>\n",
       "      <td>1.000000</td>\n",
       "    </tr>\n",
       "  </tbody>\n",
       "</table>\n",
       "</div>"
      ],
      "text/plain": [
       "                 Year_of_Release  NA_Sales  EU_Sales  JP_Sales  Other_Sales  \\\n",
       "Year_of_Release         1.000000 -0.092562  0.003842 -0.168386     0.037700   \n",
       "NA_Sales               -0.092562  1.000000  0.765336  0.449598     0.638654   \n",
       "EU_Sales                0.003842  0.765336  1.000000  0.435068     0.722796   \n",
       "JP_Sales               -0.168386  0.449598  0.435068  1.000000     0.291096   \n",
       "Other_Sales             0.037700  0.638654  0.722796  0.291096     1.000000   \n",
       "Global_Sales           -0.076433  0.941010  0.901239  0.612300     0.749242   \n",
       "Critic_Score            0.011411  0.240755  0.220752  0.152593     0.198554   \n",
       "Critic_Count            0.223407  0.295413  0.277533  0.180219     0.251639   \n",
       "User_Count              0.175339  0.246429  0.283360  0.075638     0.238982   \n",
       "\n",
       "                 Global_Sales  Critic_Score  Critic_Count  User_Count  \n",
       "Year_of_Release     -0.076433      0.011411      0.223407    0.175339  \n",
       "NA_Sales             0.941010      0.240755      0.295413    0.246429  \n",
       "EU_Sales             0.901239      0.220752      0.277533    0.283360  \n",
       "JP_Sales             0.612300      0.152593      0.180219    0.075638  \n",
       "Other_Sales          0.749242      0.198554      0.251639    0.238982  \n",
       "Global_Sales         1.000000      0.245471      0.303571    0.265012  \n",
       "Critic_Score         0.245471      1.000000      0.425504    0.264376  \n",
       "Critic_Count         0.303571      0.425504      1.000000    0.362334  \n",
       "User_Count           0.265012      0.264376      0.362334    1.000000  "
      ]
     },
     "execution_count": 24,
     "metadata": {},
     "output_type": "execute_result"
    }
   ],
   "source": [
    "data.corr()"
   ]
  },
  {
   "cell_type": "markdown",
   "metadata": {},
   "source": [
    "Анализируя матрицу корреляций, можно сделать вывод, что некоторые наборы признаков (NA_Sales, EU_Sales, Other_Sales и Global_Sales) сильно коррелированны. В дальнейшем необходимо будет удалить некоторые из них."
   ]
  },
  {
   "cell_type": "markdown",
   "metadata": {},
   "source": [
    "Строим различные графики зависмости года выпуска и количества продаж в Японии, количества продаж в Северной Америке, во всех странах мира."
   ]
  },
  {
   "cell_type": "code",
   "execution_count": 27,
   "metadata": {},
   "outputs": [
    {
     "data": {
      "image/png": "[encoded data removed]",
      "text/plain": [
       "<Figure size 432x288 with 1 Axes>"
      ]
     },
     "metadata": {},
     "output_type": "display_data"
    }
   ],
   "source": [
    "plt.plot(data['Year_of_Release'], data['JP_Sales'], 'o', alpha = 0.05)\n",
    "plt.xlabel('Year_of_Release')\n",
    "plt.ylabel('JP_Sales')\n",
    "plt.title('Year_of_Release vs JP_Sales')\n",
    "pass"
   ]
  },
  {
   "cell_type": "code",
   "execution_count": 33,
   "metadata": {},
   "outputs": [
    {
     "data": {
      "image/png": "[encoded data removed]",
      "text/plain": [
       "<Figure size 720x432 with 1 Axes>"
      ]
     },
     "metadata": {},
     "output_type": "display_data"
    }
   ],
   "source": [
    "plt.figure(figsize = (10, 6))\n",
    "\n",
    "plt.scatter(data[data['Genre'] == 'Action']['Year_of_Release'],\n",
    "            data[data['Genre'] == 'Action']['NA_Sales'],\n",
    "            alpha = 0.15,\n",
    "            label = 'Action',\n",
    "            color = 'b')\n",
    "\n",
    "plt.scatter(data[data['Genre'] == 'Sports']['Year_of_Release'],\n",
    "            data[data['Genre'] == 'Sports']['NA_Sales'],\n",
    "            alpha = 0.05,\n",
    "            label = 'Sports',\n",
    "            color = 'r')\n",
    "\n",
    "plt.xlabel('Year_of_Release')\n",
    "plt.ylabel('NA_Sales')\n",
    "plt.legend()\n",
    "plt.grid()"
   ]
  },
  {
   "cell_type": "code",
   "execution_count": 35,
   "metadata": {},
   "outputs": [
    {
     "data": {
      "image/png": "[encoded data removed]",
      "text/plain": [
       "<Figure size 720x576 with 1 Axes>"
      ]
     },
     "metadata": {},
     "output_type": "display_data"
    }
   ],
   "source": [
    "np.random.seed(0)\n",
    "education_num_rnd = data['Year_of_Release'] + np.random.rand(data.shape[0]) - .5\n",
    "\n",
    "plt.figure(figsize = (10, 8))\n",
    "\n",
    "plt.scatter(education_num_rnd[data['Genre'] == 'Action'],\n",
    "            data[data['Genre'] == 'Action']['NA_Sales'],\n",
    "            alpha = 0.15,\n",
    "            label = 'Action',\n",
    "            color = 'b')\n",
    "\n",
    "plt.scatter(education_num_rnd[data['Genre'] == 'Sports'],\n",
    "            data[data['Genre'] == 'Sports']['NA_Sales'],\n",
    "            alpha = 0.15,\n",
    "            label = 'Sports',\n",
    "            color = 'r')\n",
    "\n",
    "plt.xlabel('Year_of_Release')\n",
    "plt.ylabel('NA_Sales')\n",
    "plt.title('Video game sales')\n",
    "plt.grid()"
   ]
  },
  {
   "cell_type": "code",
   "execution_count": 36,
   "metadata": {},
   "outputs": [
    {
     "data": {
      "image/png": "[encoded data removed]",
      "text/plain": [
       "<Figure size 720x576 with 1 Axes>"
      ]
     },
     "metadata": {},
     "output_type": "display_data"
    }
   ],
   "source": [
    "plt.figure(figsize = (10, 8))\n",
    "\n",
    "plt.scatter(data[data['Genre'] == 'Sports']['Year_of_Release'],\n",
    "            data[data['Genre'] == 'Sports']['Global_Sales'],\n",
    "            alpha = 0.15,\n",
    "            label = 'Sports',\n",
    "            color = 'r')\n",
    "\n",
    "plt.scatter(data[data['Genre'] == 'Action']['Year_of_Release'],\n",
    "            data[data['Genre'] == 'Action']['Global_Sales'],\n",
    "            alpha = 0.15,\n",
    "            label = 'Action',\n",
    "            color = 'b')\n",
    "\n",
    "plt.xlabel('Year_of_Release')\n",
    "plt.ylabel('Global_Sales')\n",
    "plt.grid()"
   ]
  },
  {
   "cell_type": "code",
   "execution_count": 11,
   "metadata": {},
   "outputs": [
    {
     "data": {
      "text/html": [
       "<div>\n",
       "<style scoped>\n",
       "    .dataframe tbody tr th:only-of-type {\n",
       "        vertical-align: middle;\n",
       "    }\n",
       "\n",
       "    .dataframe tbody tr th {\n",
       "        vertical-align: top;\n",
       "    }\n",
       "\n",
       "    .dataframe thead th {\n",
       "        text-align: right;\n",
       "    }\n",
       "</style>\n",
       "<table border=\"1\" class=\"dataframe\">\n",
       "  <thead>\n",
       "    <tr style=\"text-align: right;\">\n",
       "      <th></th>\n",
       "      <th>Name</th>\n",
       "      <th>Platform</th>\n",
       "      <th>Genre</th>\n",
       "      <th>Publisher</th>\n",
       "      <th>User_Score</th>\n",
       "      <th>Developer</th>\n",
       "      <th>Rating</th>\n",
       "    </tr>\n",
       "  </thead>\n",
       "  <tbody>\n",
       "    <tr>\n",
       "      <th>count</th>\n",
       "      <td>16717</td>\n",
       "      <td>16719</td>\n",
       "      <td>16717</td>\n",
       "      <td>16665</td>\n",
       "      <td>10015</td>\n",
       "      <td>10096</td>\n",
       "      <td>9950</td>\n",
       "    </tr>\n",
       "    <tr>\n",
       "      <th>unique</th>\n",
       "      <td>11562</td>\n",
       "      <td>31</td>\n",
       "      <td>12</td>\n",
       "      <td>581</td>\n",
       "      <td>96</td>\n",
       "      <td>1696</td>\n",
       "      <td>8</td>\n",
       "    </tr>\n",
       "    <tr>\n",
       "      <th>top</th>\n",
       "      <td>Need for Speed: Most Wanted</td>\n",
       "      <td>PS2</td>\n",
       "      <td>Action</td>\n",
       "      <td>Electronic Arts</td>\n",
       "      <td>tbd</td>\n",
       "      <td>Ubisoft</td>\n",
       "      <td>E</td>\n",
       "    </tr>\n",
       "    <tr>\n",
       "      <th>freq</th>\n",
       "      <td>12</td>\n",
       "      <td>2161</td>\n",
       "      <td>3370</td>\n",
       "      <td>1356</td>\n",
       "      <td>2425</td>\n",
       "      <td>204</td>\n",
       "      <td>3991</td>\n",
       "    </tr>\n",
       "  </tbody>\n",
       "</table>\n",
       "</div>"
      ],
      "text/plain": [
       "                               Name Platform   Genre        Publisher  \\\n",
       "count                         16717    16719   16717            16665   \n",
       "unique                        11562       31      12              581   \n",
       "top     Need for Speed: Most Wanted      PS2  Action  Electronic Arts   \n",
       "freq                             12     2161    3370             1356   \n",
       "\n",
       "       User_Score Developer Rating  \n",
       "count       10015     10096   9950  \n",
       "unique         96      1696      8  \n",
       "top           tbd   Ubisoft      E  \n",
       "freq         2425       204   3991  "
      ]
     },
     "execution_count": 11,
     "metadata": {},
     "output_type": "execute_result"
    }
   ],
   "source": [
    "data.describe(include = ['object'])"
   ]
  },
  {
   "cell_type": "markdown",
   "metadata": {},
   "source": [
    "Выводим описательную статистику по всем атрибутам"
   ]
  },
  {
   "cell_type": "code",
   "execution_count": 38,
   "metadata": {},
   "outputs": [
    {
     "data": {
      "text/html": [
       "<div>\n",
       "<style scoped>\n",
       "    .dataframe tbody tr th:only-of-type {\n",
       "        vertical-align: middle;\n",
       "    }\n",
       "\n",
       "    .dataframe tbody tr th {\n",
       "        vertical-align: top;\n",
       "    }\n",
       "\n",
       "    .dataframe thead th {\n",
       "        text-align: right;\n",
       "    }\n",
       "</style>\n",
       "<table border=\"1\" class=\"dataframe\">\n",
       "  <thead>\n",
       "    <tr style=\"text-align: right;\">\n",
       "      <th></th>\n",
       "      <th>Name</th>\n",
       "      <th>Platform</th>\n",
       "      <th>Year_of_Release</th>\n",
       "      <th>Genre</th>\n",
       "      <th>Publisher</th>\n",
       "      <th>NA_Sales</th>\n",
       "      <th>EU_Sales</th>\n",
       "      <th>JP_Sales</th>\n",
       "      <th>Other_Sales</th>\n",
       "      <th>Global_Sales</th>\n",
       "      <th>Critic_Score</th>\n",
       "      <th>Critic_Count</th>\n",
       "      <th>User_Score</th>\n",
       "      <th>User_Count</th>\n",
       "      <th>Developer</th>\n",
       "      <th>Rating</th>\n",
       "    </tr>\n",
       "  </thead>\n",
       "  <tbody>\n",
       "    <tr>\n",
       "      <th>count</th>\n",
       "      <td>16717</td>\n",
       "      <td>16719</td>\n",
       "      <td>16450.000000</td>\n",
       "      <td>16717</td>\n",
       "      <td>16665</td>\n",
       "      <td>16719.000000</td>\n",
       "      <td>16719.000000</td>\n",
       "      <td>16719.000000</td>\n",
       "      <td>16719.000000</td>\n",
       "      <td>16719.000000</td>\n",
       "      <td>8137.000000</td>\n",
       "      <td>8137.000000</td>\n",
       "      <td>10015</td>\n",
       "      <td>7590.000000</td>\n",
       "      <td>10096</td>\n",
       "      <td>9950</td>\n",
       "    </tr>\n",
       "    <tr>\n",
       "      <th>unique</th>\n",
       "      <td>11562</td>\n",
       "      <td>31</td>\n",
       "      <td>NaN</td>\n",
       "      <td>12</td>\n",
       "      <td>581</td>\n",
       "      <td>NaN</td>\n",
       "      <td>NaN</td>\n",
       "      <td>NaN</td>\n",
       "      <td>NaN</td>\n",
       "      <td>NaN</td>\n",
       "      <td>NaN</td>\n",
       "      <td>NaN</td>\n",
       "      <td>96</td>\n",
       "      <td>NaN</td>\n",
       "      <td>1696</td>\n",
       "      <td>8</td>\n",
       "    </tr>\n",
       "    <tr>\n",
       "      <th>top</th>\n",
       "      <td>Need for Speed: Most Wanted</td>\n",
       "      <td>PS2</td>\n",
       "      <td>NaN</td>\n",
       "      <td>Action</td>\n",
       "      <td>Electronic Arts</td>\n",
       "      <td>NaN</td>\n",
       "      <td>NaN</td>\n",
       "      <td>NaN</td>\n",
       "      <td>NaN</td>\n",
       "      <td>NaN</td>\n",
       "      <td>NaN</td>\n",
       "      <td>NaN</td>\n",
       "      <td>tbd</td>\n",
       "      <td>NaN</td>\n",
       "      <td>Ubisoft</td>\n",
       "      <td>E</td>\n",
       "    </tr>\n",
       "    <tr>\n",
       "      <th>freq</th>\n",
       "      <td>12</td>\n",
       "      <td>2161</td>\n",
       "      <td>NaN</td>\n",
       "      <td>3370</td>\n",
       "      <td>1356</td>\n",
       "      <td>NaN</td>\n",
       "      <td>NaN</td>\n",
       "      <td>NaN</td>\n",
       "      <td>NaN</td>\n",
       "      <td>NaN</td>\n",
       "      <td>NaN</td>\n",
       "      <td>NaN</td>\n",
       "      <td>2425</td>\n",
       "      <td>NaN</td>\n",
       "      <td>204</td>\n",
       "      <td>3991</td>\n",
       "    </tr>\n",
       "    <tr>\n",
       "      <th>mean</th>\n",
       "      <td>NaN</td>\n",
       "      <td>NaN</td>\n",
       "      <td>2006.487356</td>\n",
       "      <td>NaN</td>\n",
       "      <td>NaN</td>\n",
       "      <td>0.263330</td>\n",
       "      <td>0.145025</td>\n",
       "      <td>0.077602</td>\n",
       "      <td>0.047332</td>\n",
       "      <td>0.533543</td>\n",
       "      <td>68.967679</td>\n",
       "      <td>26.360821</td>\n",
       "      <td>NaN</td>\n",
       "      <td>162.229908</td>\n",
       "      <td>NaN</td>\n",
       "      <td>NaN</td>\n",
       "    </tr>\n",
       "    <tr>\n",
       "      <th>std</th>\n",
       "      <td>NaN</td>\n",
       "      <td>NaN</td>\n",
       "      <td>5.878995</td>\n",
       "      <td>NaN</td>\n",
       "      <td>NaN</td>\n",
       "      <td>0.813514</td>\n",
       "      <td>0.503283</td>\n",
       "      <td>0.308818</td>\n",
       "      <td>0.186710</td>\n",
       "      <td>1.547935</td>\n",
       "      <td>13.938165</td>\n",
       "      <td>18.980495</td>\n",
       "      <td>NaN</td>\n",
       "      <td>561.282326</td>\n",
       "      <td>NaN</td>\n",
       "      <td>NaN</td>\n",
       "    </tr>\n",
       "    <tr>\n",
       "      <th>min</th>\n",
       "      <td>NaN</td>\n",
       "      <td>NaN</td>\n",
       "      <td>1980.000000</td>\n",
       "      <td>NaN</td>\n",
       "      <td>NaN</td>\n",
       "      <td>0.000000</td>\n",
       "      <td>0.000000</td>\n",
       "      <td>0.000000</td>\n",
       "      <td>0.000000</td>\n",
       "      <td>0.010000</td>\n",
       "      <td>13.000000</td>\n",
       "      <td>3.000000</td>\n",
       "      <td>NaN</td>\n",
       "      <td>4.000000</td>\n",
       "      <td>NaN</td>\n",
       "      <td>NaN</td>\n",
       "    </tr>\n",
       "    <tr>\n",
       "      <th>25%</th>\n",
       "      <td>NaN</td>\n",
       "      <td>NaN</td>\n",
       "      <td>2003.000000</td>\n",
       "      <td>NaN</td>\n",
       "      <td>NaN</td>\n",
       "      <td>0.000000</td>\n",
       "      <td>0.000000</td>\n",
       "      <td>0.000000</td>\n",
       "      <td>0.000000</td>\n",
       "      <td>0.060000</td>\n",
       "      <td>60.000000</td>\n",
       "      <td>12.000000</td>\n",
       "      <td>NaN</td>\n",
       "      <td>10.000000</td>\n",
       "      <td>NaN</td>\n",
       "      <td>NaN</td>\n",
       "    </tr>\n",
       "    <tr>\n",
       "      <th>50%</th>\n",
       "      <td>NaN</td>\n",
       "      <td>NaN</td>\n",
       "      <td>2007.000000</td>\n",
       "      <td>NaN</td>\n",
       "      <td>NaN</td>\n",
       "      <td>0.080000</td>\n",
       "      <td>0.020000</td>\n",
       "      <td>0.000000</td>\n",
       "      <td>0.010000</td>\n",
       "      <td>0.170000</td>\n",
       "      <td>71.000000</td>\n",
       "      <td>21.000000</td>\n",
       "      <td>NaN</td>\n",
       "      <td>24.000000</td>\n",
       "      <td>NaN</td>\n",
       "      <td>NaN</td>\n",
       "    </tr>\n",
       "    <tr>\n",
       "      <th>75%</th>\n",
       "      <td>NaN</td>\n",
       "      <td>NaN</td>\n",
       "      <td>2010.000000</td>\n",
       "      <td>NaN</td>\n",
       "      <td>NaN</td>\n",
       "      <td>0.240000</td>\n",
       "      <td>0.110000</td>\n",
       "      <td>0.040000</td>\n",
       "      <td>0.030000</td>\n",
       "      <td>0.470000</td>\n",
       "      <td>79.000000</td>\n",
       "      <td>36.000000</td>\n",
       "      <td>NaN</td>\n",
       "      <td>81.000000</td>\n",
       "      <td>NaN</td>\n",
       "      <td>NaN</td>\n",
       "    </tr>\n",
       "    <tr>\n",
       "      <th>max</th>\n",
       "      <td>NaN</td>\n",
       "      <td>NaN</td>\n",
       "      <td>2020.000000</td>\n",
       "      <td>NaN</td>\n",
       "      <td>NaN</td>\n",
       "      <td>41.360000</td>\n",
       "      <td>28.960000</td>\n",
       "      <td>10.220000</td>\n",
       "      <td>10.570000</td>\n",
       "      <td>82.530000</td>\n",
       "      <td>98.000000</td>\n",
       "      <td>113.000000</td>\n",
       "      <td>NaN</td>\n",
       "      <td>10665.000000</td>\n",
       "      <td>NaN</td>\n",
       "      <td>NaN</td>\n",
       "    </tr>\n",
       "  </tbody>\n",
       "</table>\n",
       "</div>"
      ],
      "text/plain": [
       "                               Name Platform  Year_of_Release   Genre  \\\n",
       "count                         16717    16719     16450.000000   16717   \n",
       "unique                        11562       31              NaN      12   \n",
       "top     Need for Speed: Most Wanted      PS2              NaN  Action   \n",
       "freq                             12     2161              NaN    3370   \n",
       "mean                            NaN      NaN      2006.487356     NaN   \n",
       "std                             NaN      NaN         5.878995     NaN   \n",
       "min                             NaN      NaN      1980.000000     NaN   \n",
       "25%                             NaN      NaN      2003.000000     NaN   \n",
       "50%                             NaN      NaN      2007.000000     NaN   \n",
       "75%                             NaN      NaN      2010.000000     NaN   \n",
       "max                             NaN      NaN      2020.000000     NaN   \n",
       "\n",
       "              Publisher      NA_Sales      EU_Sales      JP_Sales  \\\n",
       "count             16665  16719.000000  16719.000000  16719.000000   \n",
       "unique              581           NaN           NaN           NaN   \n",
       "top     Electronic Arts           NaN           NaN           NaN   \n",
       "freq               1356           NaN           NaN           NaN   \n",
       "mean                NaN      0.263330      0.145025      0.077602   \n",
       "std                 NaN      0.813514      0.503283      0.308818   \n",
       "min                 NaN      0.000000      0.000000      0.000000   \n",
       "25%                 NaN      0.000000      0.000000      0.000000   \n",
       "50%                 NaN      0.080000      0.020000      0.000000   \n",
       "75%                 NaN      0.240000      0.110000      0.040000   \n",
       "max                 NaN     41.360000     28.960000     10.220000   \n",
       "\n",
       "         Other_Sales  Global_Sales  Critic_Score  Critic_Count User_Score  \\\n",
       "count   16719.000000  16719.000000   8137.000000   8137.000000      10015   \n",
       "unique           NaN           NaN           NaN           NaN         96   \n",
       "top              NaN           NaN           NaN           NaN        tbd   \n",
       "freq             NaN           NaN           NaN           NaN       2425   \n",
       "mean        0.047332      0.533543     68.967679     26.360821        NaN   \n",
       "std         0.186710      1.547935     13.938165     18.980495        NaN   \n",
       "min         0.000000      0.010000     13.000000      3.000000        NaN   \n",
       "25%         0.000000      0.060000     60.000000     12.000000        NaN   \n",
       "50%         0.010000      0.170000     71.000000     21.000000        NaN   \n",
       "75%         0.030000      0.470000     79.000000     36.000000        NaN   \n",
       "max        10.570000     82.530000     98.000000    113.000000        NaN   \n",
       "\n",
       "          User_Count Developer Rating  \n",
       "count    7590.000000     10096   9950  \n",
       "unique           NaN      1696      8  \n",
       "top              NaN   Ubisoft      E  \n",
       "freq             NaN       204   3991  \n",
       "mean      162.229908       NaN    NaN  \n",
       "std       561.282326       NaN    NaN  \n",
       "min         4.000000       NaN    NaN  \n",
       "25%        10.000000       NaN    NaN  \n",
       "50%        24.000000       NaN    NaN  \n",
       "75%        81.000000       NaN    NaN  \n",
       "max     10665.000000       NaN    NaN  "
      ]
     },
     "execution_count": 38,
     "metadata": {},
     "output_type": "execute_result"
    }
   ],
   "source": [
    "data.describe(include = 'all')"
   ]
  },
  {
   "cell_type": "markdown",
   "metadata": {},
   "source": [
    "Узнаём все возможные значения, которые принимают атрибуты Platform, Genre, Publisher."
   ]
  },
  {
   "cell_type": "code",
   "execution_count": 39,
   "metadata": {},
   "outputs": [
    {
     "data": {
      "text/plain": [
       "array(['Wii', 'NES', 'GB', 'DS', 'X360', 'PS3', 'PS2', 'SNES', 'GBA',\n",
       "       'PS4', '3DS', 'N64', 'PS', 'XB', 'PC', '2600', 'PSP', 'XOne',\n",
       "       'WiiU', 'GC', 'GEN', 'DC', 'PSV', 'SAT', 'SCD', 'WS', 'NG', 'TG16',\n",
       "       '3DO', 'GG', 'PCFX'], dtype=object)"
      ]
     },
     "execution_count": 39,
     "metadata": {},
     "output_type": "execute_result"
    }
   ],
   "source": [
    "data['Platform'].unique()"
   ]
  },
  {
   "cell_type": "code",
   "execution_count": 40,
   "metadata": {},
   "outputs": [
    {
     "data": {
      "text/plain": [
       "array(['Sports', 'Platform', 'Racing', 'Role-Playing', 'Puzzle', 'Misc',\n",
       "       'Shooter', 'Simulation', 'Action', 'Fighting', 'Adventure',\n",
       "       'Strategy', nan], dtype=object)"
      ]
     },
     "execution_count": 40,
     "metadata": {},
     "output_type": "execute_result"
    }
   ],
   "source": [
    "data['Genre'].unique()"
   ]
  },
  {
   "cell_type": "code",
   "execution_count": 42,
   "metadata": {},
   "outputs": [
    {
     "data": {
      "text/plain": [
       "array(['Nintendo', 'Microsoft Game Studios', 'Take-Two Interactive',\n",
       "       'Sony Computer Entertainment', 'Activision', 'Ubisoft',\n",
       "       'Bethesda Softworks', 'Electronic Arts', 'Sega', 'SquareSoft',\n",
       "       'Atari', '505 Games', 'Capcom', 'GT Interactive',\n",
       "       'Konami Digital Entertainment', 'Square Enix',\n",
       "       'Sony Computer Entertainment Europe', 'Virgin Interactive',\n",
       "       'LucasArts', 'Warner Bros. Interactive Entertainment',\n",
       "       'Universal Interactive', 'Eidos Interactive', 'RedOctane',\n",
       "       'Vivendi Games', 'Enix Corporation', 'Namco Bandai Games',\n",
       "       'Palcom', 'Hasbro Interactive', 'THQ', 'Fox Interactive',\n",
       "       'Acclaim Entertainment', 'MTV Games', 'Disney Interactive Studios',\n",
       "       nan, 'Codemasters', 'Majesco Entertainment', 'Red Orb', 'Level 5',\n",
       "       'Arena Entertainment', 'Midway Games', 'JVC', 'Deep Silver',\n",
       "       'NCSoft', '989 Studios', 'UEP Systems', 'Parker Bros.', 'Maxis',\n",
       "       'Imagic', 'Tecmo Koei', 'ASCII Entertainment', 'Valve Software',\n",
       "       'Mindscape', 'Infogrames', 'Unknown', 'Square', 'Valve',\n",
       "       'Banpresto', 'Hello Games', 'D3Publisher', 'Activision Value',\n",
       "       'Oxygen Interactive', 'Red Storm Entertainment', 'Video System',\n",
       "       'Global Star', 'Gotham Games', 'Westwood Studios', 'GungHo',\n",
       "       'Crave Entertainment', 'Hudson Soft', 'Coleco',\n",
       "       'Rising Star Games', 'TDK Mediactive', 'ASC Games', 'Accolade',\n",
       "       'Zoo Games', 'Sony Online Entertainment', '3DO', 'Natsume', 'RTL',\n",
       "       'Alchemist', 'Black Label Games', 'SouthPeak Games',\n",
       "       'Focus Home Interactive', 'Ocean', 'Zoo Digital Publishing',\n",
       "       'Psygnosis', 'City Interactive', 'Empire Interactive', 'Success',\n",
       "       'Compile', 'Russel', 'Atlus', 'Mastertronic',\n",
       "       'Slightly Mad Studios', 'Taito', 'Agetec', 'Microprose', 'Play It',\n",
       "       'GSP', 'Tomy Corporation', 'Sammy Corporation', 'Koch Media',\n",
       "       'Game Factory', 'Titus', 'Marvelous Entertainment', 'Genki',\n",
       "       'Mojang', 'CTO SpA', 'TalonSoft', 'Crystal Dynamics',\n",
       "       'Square Enix ', 'mixi, Inc', 'Pinnacle', 'SCi', 'Quelle',\n",
       "       'Rage Software', 'Ubisoft Annecy', 'Interplay', 'Scholastic Inc.',\n",
       "       'Mystique', 'ChunSoft', 'Square EA',\n",
       "       '20th Century Fox Video Games', 'Hudson Entertainment',\n",
       "       'Men-A-Vision', 'Nobilis', 'Avanquest Software',\n",
       "       'Big Ben Interactive', 'Nordic Games', 'Touchstone', 'Spike',\n",
       "       'Nippon Ichi Software', 'Sony Computer Entertainment America',\n",
       "       'Jester Interactive', 'LEGO Media', 'Quest', 'Illusion Softworks',\n",
       "       'Tigervision', 'Rocket Company', 'Metro 3D', 'Mattel Interactive',\n",
       "       'IE Institute', 'Funbox Media', 'Rondomedia', 'Universal Gamex',\n",
       "       'Ghostlight', 'Wizard Video Games',\n",
       "       'BMG Interactive Entertainment', 'PQube', 'Trion Worlds',\n",
       "       'Xseed Games', 'Laguna', 'Takara', 'Ignition Entertainment',\n",
       "       'Kadokawa Shoten', 'Enterbrain', 'Imagineer', 'CPG Products',\n",
       "       'System 3 Arcade Software', 'Aruze Corp', 'Destineer',\n",
       "       'Gamebridge', 'Midas Interactive Entertainment', 'Jaleco',\n",
       "       'Answer Software', 'Pack In Soft', 'XS Games', 'Rebellion',\n",
       "       'Ultravision', 'Harmonix Music Systems', 'Activision Blizzard',\n",
       "       'Xplosiv', 'Wanadoo', 'Telltale Games', 'NovaLogic', 'Epoch',\n",
       "       'BAM! Entertainment', 'GameMill Entertainment',\n",
       "       'Knowledge Adventure', 'Tetris Online', 'Mastiff', 'ESP', 'TYO',\n",
       "       'Telegames', 'Mud Duck Productions', 'Screenlife', 'Pioneer LDC',\n",
       "       'Magical Company', 'Kemco', 'Mentor Interactive',\n",
       "       'Human Entertainment', 'Data Age', 'Electronic Arts Victor',\n",
       "       'Jack of All Games', 'Avanquest', 'Black Bean Games', '989 Sports',\n",
       "       'Takara Tomy', 'Media Rings', 'Elf', 'Starfish', 'Zushi Games',\n",
       "       'Jorudan', 'Destination Software, Inc', 'New',\n",
       "       'Brash Entertainment', 'Kalypso Media', 'ITT Family Games',\n",
       "       'Ackkstudios', 'PopCap Games', 'Starpath Corp.', 'BPS',\n",
       "       'Gathering of Developers', 'NewKidCo', 'Marvelous Interactive',\n",
       "       'Storm City Games', 'CokeM Interactive', 'P2 Games',\n",
       "       'CBS Electronics', 'Home Entertainment Suppliers', 'Magix',\n",
       "       'Arc System Works', 'Angel Studios', 'Wargaming.net', 'Playmates',\n",
       "       'SNK Playmore', 'Hamster Corporation', 'From Software',\n",
       "       'Nippon Columbia', 'Nichibutsu', 'Conspiracy Entertainment',\n",
       "       'Hect', 'Mumbo Jumbo', 'DTP Entertainment',\n",
       "       'Pacific Century Cyber Works', 'Indie Games', 'Liquid Games',\n",
       "       'NEC', 'Axela', 'ArtDink', 'Sunsoft', 'Little Orbit', 'FuRyu',\n",
       "       'Gust', 'SNK', 'NEC Interchannel', 'Nihon Falcom Corporation',\n",
       "       'Xing Entertainment', 'ValuSoft', 'Victor Interactive',\n",
       "       'American Softworks', 'Falcom Corporation', 'Detn8 Games', 'Bomb',\n",
       "       'Nordcurrent', 'Milestone S.r.l.', 'AQ Interactive', 'Sears',\n",
       "       'Seta Corporation', 'On Demand', 'CCP', 'NCS',\n",
       "       'Rebellion Developments', 'Agatsuma Entertainment',\n",
       "       'Gremlin Interactive Ltd', 'Aspyr', 'Compile Heart',\n",
       "       'Culture Brain', 'Mad Catz', 'Shogakukan', 'Merscom LLC',\n",
       "       'JoWood Productions', 'Nippon Telenet', 'TDK Core',\n",
       "       'Kadokawa Games', 'SSI', 'Foreign Media Games', 'Core Design Ltd.',\n",
       "       'bitComposer Games', 'Astragon', 'Asylum Entertainment',\n",
       "       'Performance Designed Products', 'UFO Interactive',\n",
       "       'Essential Games', 'Adeline Software', 'Funcom', 'PlayV',\n",
       "       'Panther Software', 'Blast! Entertainment Ltd',\n",
       "       'Playlogic Game Factory', 'DSI Games', 'Avalon Interactive',\n",
       "       'Game Life', 'Popcorn Arcade', 'Aques', 'System 3', 'Syscom',\n",
       "       'Vir2L Studios', 'Vatical Entertainment', 'Neko Entertainment',\n",
       "       'White Park Bay Software', 'Vic Tokai', 'Media Factory',\n",
       "       'Daedalic', 'Game Arts', 'The Adventure Company', 'EA Games',\n",
       "       'Acquire', 'Broccoli', 'General Entertainment',\n",
       "       'Paradox Interactive', 'Yacht Club Games', 'Imadio',\n",
       "       'Swing! Entertainment', 'Sony Music Entertainment', 'Aqua Plus',\n",
       "       'Excalibur Publishing', 'Hip Interactive', 'Tripwire Interactive',\n",
       "       'DreamCatcher Interactive', 'SCS Software', 'Havas Interactive',\n",
       "       'Sting', 'Idea Factory', 'Telstar', 'U.S. Gold', 'Funsta',\n",
       "       'DreamWorks Interactive', 'Slitherine Software', 'MTO', 'Graffiti',\n",
       "       'Tru Blu Entertainment', 'DHM Interactive', 'Crytek', 'FunSoft',\n",
       "       'Data Design Interactive', 'SPS', 'Moss', 'T&E Soft',\n",
       "       'NDA Productions', 'Bigben Interactive', 'Data East',\n",
       "       'Idea Factory International', 'Time Warner Interactive',\n",
       "       'Gainax Network Systems', 'Daito', 'O3 Entertainment', 'O-Games',\n",
       "       'Gameloft', 'Xicat Interactive', 'Simon & Schuster Interactive',\n",
       "       'Valcon Games', 'PopTop Software', 'TOHO', 'PM Studios',\n",
       "       'Bohemia Interactive', 'Reef Entertainment', '5pb',\n",
       "       'HMH Interactive', 'inXile Entertainment', 'Cave', 'Microids',\n",
       "       'Paon', 'CDV Software Entertainment', 'Micro Cabin', 'GameTek',\n",
       "       'Benesse', 'Type-Moon', 'Enjoy Gaming ltd.', 'Asmik Corp',\n",
       "       'Interplay Productions', 'Asmik Ace Entertainment', 'Image Epoch',\n",
       "       'Phantom EFX', 'Evolved Games', 'responDESIGN',\n",
       "       'Griffin International', 'Culture Publishers', 'Hackberry',\n",
       "       'Hearty Robin', 'Nippon Amuse', 'Origin Systems', 'Seventh Chord',\n",
       "       'Abylight', 'Mitsui', 'Insomniac Games', 'Flight-Plan',\n",
       "       'Milestone', 'Glams', 'Aksys Games', 'Locus', 'Warp',\n",
       "       'Irem Software Engineering', 'Myelin Media',\n",
       "       'Global A Entertainment', 'Alternative Software', 'Mercury Games',\n",
       "       'Sunrise Interactive', 'Elite', 'Evolution Games',\n",
       "       'Daedalic Entertainment', 'Edia', 'Athena', 'Aria', 'Tivola',\n",
       "       'Happinet', 'Tommo', 'Altron', 'Revolution Software',\n",
       "       'Media Works', 'Fortyfive', 'Gamecock', 'Imax', '10TACLE Studios',\n",
       "       'Groove Games', 'Pack-In-Video', 'Crimson Cow', 'iWin', 'Asgard',\n",
       "       'Ecole', 'Yumedia', 'Ascaron Entertainment GmbH', 'HAL Laboratory',\n",
       "       'Phenomedia', 'Grand Prix Games', 'DigiCube', 'Creative Core',\n",
       "       'Kaga Create', 'WayForward Technologies', 'LSP Games',\n",
       "       'ASCII Media Works', '1C Company', 'Coconuts Japan', 'Arika',\n",
       "       'Marvel Entertainment', 'Ertain', 'Prototype', 'Phantagram',\n",
       "       'The Learning Company', 'TechnoSoft', 'MLB.com', 'Vap', 'Misawa',\n",
       "       'Yeti', 'Dusenberry Martin Racing', 'Navarre Corp', 'Pow',\n",
       "       'MediaQuest', 'Team17 Software', 'Max Five', 'Tradewest',\n",
       "       'Comfort', 'Milestone S.r.l', 'Pony Canyon', 'Riverhillsoft',\n",
       "       'Summitsoft', 'Playmore', 'Kool Kizz', 'Monte Christo Multimedia',\n",
       "       'TopWare Interactive', 'Legacy Interactive',\n",
       "       'Cloud Imperium Games Corporation', 'Flashpoint Games',\n",
       "       'CyberFront', 'Alawar Entertainment', 'Societa', 'Interchannel',\n",
       "       'Experience Inc.', 'Sonnet', 'Virtual Play Games', 'Zenrin',\n",
       "       'Iceberg Interactive', 'Ivolgamus', 'MC2 Entertainment', '2D Boy',\n",
       "       'Games Workshop', 'Kando Games', 'Office Create',\n",
       "       'Maximum Family Games', 'Fields', 'Gearbox Software',\n",
       "       'Princess Soft', 'Extreme Entertainment Group', 'Big Fish Games',\n",
       "       'Berkeley', 'Mamba Games', 'Fuji', 'FuRyu Corporation',\n",
       "       'Her Interactive', 'imageepoch Inc.', 'Just Flight', 'Kamui',\n",
       "       'ASK', 'Cygames', 'Introversion Software', '49Games', 'KSS',\n",
       "       'dramatic create', 'TGL', 'KID', 'Quinrose', 'Sold Out', 'Encore',\n",
       "       'G.Rev', 'Sunflowers', 'Headup Games', 'Sweets',\n",
       "       'Kokopeli Digital Studios', 'id Software', 'Nexon', 'BushiRoad',\n",
       "       'Devolver Digital', 'Number None', 'Tryfirst', 'GN Software',\n",
       "       \"Yuke's\", 'Strategy First', 'Lexicon Entertainment',\n",
       "       'Paon Corporation', 'Kids Station', 'Licensed 4U', 'GOA',\n",
       "       '7G//AMES', 'King Records', 'Minato Station',\n",
       "       'Graphsim Entertainment', 'Easy Interactive', 'Gaga',\n",
       "       'Yamasa Entertainment', 'Plenty', 'Views', 'Blue Byte', 'fonfun',\n",
       "       'NetRevo', 'Epic Games', 'Quintet', 'Focus Multimedia',\n",
       "       'Phoenix Games', 'Marvelous Games', 'Dorart', 'Codemasters Online',\n",
       "       'Stainless Games', 'Aerosoft', 'Imageworks', 'Karin Entertainment',\n",
       "       'Technos Japan Corporation', 'Masque Publishing', 'Gakken',\n",
       "       'New World Computing', 'Mirai Shounen', 'Datam Polystar', 'HuneX',\n",
       "       'Visco', 'Saurus', 'Revolution (Japan)', 'Giza10', 'Alvion',\n",
       "       'Giga', 'Mycom', 'Warashi', 'System Soft', 'RED Entertainment',\n",
       "       'Lighthouse Interactive', 'Michaelsoft', 'Media Entertainment',\n",
       "       'Genterprise', 'Interworks Unlimited, Inc.', 'Inti Creates',\n",
       "       'Boost On', 'EON Digital Entertainment', 'Nitroplus', 'Naxat Soft',\n",
       "       'Piacci', 'Paradox Development', 'Otomate',\n",
       "       'Ascaron Entertainment', 'Ongakukan', 'Commseed',\n",
       "       'UIG Entertainment', 'Takuyo', 'Interchannel-Holon',\n",
       "       'Red Flagship'], dtype=object)"
      ]
     },
     "execution_count": 42,
     "metadata": {},
     "output_type": "execute_result"
    }
   ],
   "source": [
    "data['Publisher'].unique()"
   ]
  },
  {
   "cell_type": "markdown",
   "metadata": {},
   "source": [
    "# Подготовка данных"
   ]
  },
  {
   "cell_type": "markdown",
   "metadata": {},
   "source": [
    "Необходимо определить, будут ли продажи игры в Европе больше продаж в других странах мира (кроме Северной Америки и Японии). Для этого создадим столбец с бинарным признаком: 0 - если продаж в Европе меньше, 1 - если больше. Запишем его в столбец со значениями продаж в других странах мира (Other_Sales), а столбец со зачениями продаж в Европе удалим, чтобы задача не была слишком простой."
   ]
  },
  {
   "cell_type": "code",
   "execution_count": 3,
   "metadata": {},
   "outputs": [],
   "source": [
    "data.at[data['EU_Sales'] >= data['Other_Sales'], 'Other_Sales'] = 1\n",
    "data.at[data['EU_Sales'] < data['Other_Sales'], 'Other_Sales'] = 0"
   ]
  },
  {
   "cell_type": "code",
   "execution_count": 4,
   "metadata": {},
   "outputs": [],
   "source": [
    "data['Other_Sales'] = data['Other_Sales'].astype(np.int64)"
   ]
  },
  {
   "cell_type": "code",
   "execution_count": 5,
   "metadata": {},
   "outputs": [
    {
     "data": {
      "text/plain": [
       "'int64'"
      ]
     },
     "execution_count": 5,
     "metadata": {},
     "output_type": "execute_result"
    }
   ],
   "source": [
    "data['Other_Sales'].dtype.name"
   ]
  },
  {
   "cell_type": "code",
   "execution_count": 6,
   "metadata": {},
   "outputs": [],
   "source": [
    "data = data.drop('EU_Sales',   axis = 1)"
   ]
  },
  {
   "cell_type": "markdown",
   "metadata": {},
   "source": [
    "Удалим атрибут Global_Sales, так как он сильно коррелированный."
   ]
  },
  {
   "cell_type": "code",
   "execution_count": 7,
   "metadata": {},
   "outputs": [],
   "source": [
    "data = data.drop('Global_Sales',   axis = 1)"
   ]
  },
  {
   "cell_type": "markdown",
   "metadata": {},
   "source": [
    "В столбце издателей оставим только двух основных, остальных запишем в 'other'."
   ]
  },
  {
   "cell_type": "code",
   "execution_count": 8,
   "metadata": {},
   "outputs": [],
   "source": [
    "import operator"
   ]
  },
  {
   "cell_type": "code",
   "execution_count": 9,
   "metadata": {},
   "outputs": [],
   "source": [
    "data.at[operator.and_(data['Publisher'] != 'Electronic Arts' , data['Publisher'] != 'Activision'), 'Publisher'] = 'other'\n"
   ]
  },
  {
   "cell_type": "markdown",
   "metadata": {},
   "source": [
    "Атрибуты Name, Developer должны быть удалены, так как имеют много уникальных значений и не будут полезны."
   ]
  },
  {
   "cell_type": "code",
   "execution_count": 10,
   "metadata": {},
   "outputs": [],
   "source": [
    "data = data.drop('Name',   axis = 1)\\\n",
    "           .drop('Developer',   axis = 1)"
   ]
  },
  {
   "cell_type": "markdown",
   "metadata": {},
   "source": [
    "Удаляем строки с пропущенными значениями"
   ]
  },
  {
   "cell_type": "code",
   "execution_count": 11,
   "metadata": {},
   "outputs": [],
   "source": [
    "data = data.dropna(axis = 0)"
   ]
  },
  {
   "cell_type": "markdown",
   "metadata": {},
   "source": [
    "Признак User_Score в наших данных имеет тип object, а должен быть представлен в типе float64. Перед изменениями удалим строки с пропущенными значениями (tbd). Проверим, что тип был изменен."
   ]
  },
  {
   "cell_type": "code",
   "execution_count": 12,
   "metadata": {},
   "outputs": [],
   "source": [
    "data = data.drop(data[data['User_Score'] =='tbd'].index)"
   ]
  },
  {
   "cell_type": "code",
   "execution_count": 13,
   "metadata": {},
   "outputs": [],
   "source": [
    "data['User_Score'] = pd.to_numeric(data['User_Score'])"
   ]
  },
  {
   "cell_type": "code",
   "execution_count": 14,
   "metadata": {},
   "outputs": [
    {
     "data": {
      "text/plain": [
       "'float64'"
      ]
     },
     "execution_count": 14,
     "metadata": {},
     "output_type": "execute_result"
    }
   ],
   "source": [
    "data['User_Score'].dtype.name"
   ]
  },
  {
   "cell_type": "markdown",
   "metadata": {},
   "source": [
    "Изменим тип параметра Year_of_Release на object"
   ]
  },
  {
   "cell_type": "code",
   "execution_count": 15,
   "metadata": {},
   "outputs": [],
   "source": [
    "data['Year_of_Release'] = data['Year_of_Release'].astype(int).astype(str)"
   ]
  },
  {
   "cell_type": "code",
   "execution_count": 16,
   "metadata": {},
   "outputs": [
    {
     "data": {
      "text/plain": [
       "'object'"
      ]
     },
     "execution_count": 16,
     "metadata": {},
     "output_type": "execute_result"
    }
   ],
   "source": [
    "data['Year_of_Release'].dtype.name"
   ]
  },
  {
   "cell_type": "markdown",
   "metadata": {},
   "source": [
    "Выделяем из данных категориальные и количественные признаки"
   ]
  },
  {
   "cell_type": "code",
   "execution_count": 20,
   "metadata": {},
   "outputs": [
    {
     "name": "stdout",
     "output_type": "stream",
     "text": [
      "['Platform', 'Year_of_Release', 'Genre', 'Publisher', 'Rating']\n",
      "['NA_Sales', 'JP_Sales', 'Other_Sales', 'Critic_Score', 'Critic_Count', 'User_Score', 'User_Count']\n"
     ]
    }
   ],
   "source": [
    "categorical_columns = [c for c in data.columns if data[c].dtype.name == 'object']\n",
    "numerical_columns   = [c for c in data.columns if data[c].dtype.name != 'object']\n",
    "print(categorical_columns)\n",
    "print(numerical_columns)"
   ]
  },
  {
   "cell_type": "code",
   "execution_count": 21,
   "metadata": {},
   "outputs": [
    {
     "name": "stdout",
     "output_type": "stream",
     "text": [
      "Platform ['Wii' 'DS' 'X360' 'PS3' 'PS2' '3DS' 'PS4' 'PS' 'XB' 'PC' 'PSP' 'WiiU'\n",
      " 'GC' 'GBA' 'XOne' 'PSV' 'DC']\n",
      "Year_of_Release ['2006' '2008' '2009' '2005' '2007' '2010' '2013' '2004' '2002' '2001'\n",
      " '2011' '2012' '2014' '1997' '1999' '2015' '2016' '2003' '1998' '1996'\n",
      " '2000' '1994' '1985' '1992' '1988']\n",
      "Genre ['Sports' 'Racing' 'Platform' 'Misc' 'Action' 'Puzzle' 'Shooter'\n",
      " 'Fighting' 'Simulation' 'Role-Playing' 'Adventure' 'Strategy']\n",
      "Publisher ['other' 'Activision' 'Electronic Arts']\n",
      "Rating ['E' 'M' 'T' 'E10+' 'AO' 'K-A' 'RP']\n"
     ]
    }
   ],
   "source": [
    "for c in categorical_columns:\n",
    "    print(c, data[c].unique())"
   ]
  },
  {
   "cell_type": "markdown",
   "metadata": {},
   "source": [
    "# Векторизация"
   ]
  },
  {
   "cell_type": "markdown",
   "metadata": {},
   "source": [
    "Проводим векторизацию для категориальных признаков (заменяем их на эквивалентные количественные). Отдельно обрабатываем бинарные и небинарные признаки."
   ]
  },
  {
   "cell_type": "code",
   "execution_count": 22,
   "metadata": {},
   "outputs": [],
   "source": [
    "data_describe = data.describe(include = [object])"
   ]
  },
  {
   "cell_type": "code",
   "execution_count": 23,
   "metadata": {},
   "outputs": [
    {
     "name": "stdout",
     "output_type": "stream",
     "text": [
      "[] ['Platform', 'Year_of_Release', 'Genre', 'Publisher', 'Rating']\n"
     ]
    }
   ],
   "source": [
    "binary_columns    = [c for c in categorical_columns if data_describe[c]['unique'] == 2]\n",
    "nonbinary_columns = [c for c in categorical_columns if data_describe[c]['unique'] > 2]\n",
    "print(binary_columns, nonbinary_columns)"
   ]
  },
  {
   "cell_type": "markdown",
   "metadata": {},
   "source": [
    "Бинарных признаков нет. Проводим векторизацию для признаков Platform, Genre и Rating.\n"
   ]
  },
  {
   "cell_type": "code",
   "execution_count": 24,
   "metadata": {},
   "outputs": [
    {
     "name": "stdout",
     "output_type": "stream",
     "text": [
      "Index(['Platform_3DS', 'Platform_DC', 'Platform_DS', 'Platform_GBA',\n",
      "       'Platform_GC', 'Platform_PC', 'Platform_PS', 'Platform_PS2',\n",
      "       'Platform_PS3', 'Platform_PS4', 'Platform_PSP', 'Platform_PSV',\n",
      "       'Platform_Wii', 'Platform_WiiU', 'Platform_X360', 'Platform_XB',\n",
      "       'Platform_XOne', 'Year_of_Release_1985', 'Year_of_Release_1988',\n",
      "       'Year_of_Release_1992', 'Year_of_Release_1994', 'Year_of_Release_1996',\n",
      "       'Year_of_Release_1997', 'Year_of_Release_1998', 'Year_of_Release_1999',\n",
      "       'Year_of_Release_2000', 'Year_of_Release_2001', 'Year_of_Release_2002',\n",
      "       'Year_of_Release_2003', 'Year_of_Release_2004', 'Year_of_Release_2005',\n",
      "       'Year_of_Release_2006', 'Year_of_Release_2007', 'Year_of_Release_2008',\n",
      "       'Year_of_Release_2009', 'Year_of_Release_2010', 'Year_of_Release_2011',\n",
      "       'Year_of_Release_2012', 'Year_of_Release_2013', 'Year_of_Release_2014',\n",
      "       'Year_of_Release_2015', 'Year_of_Release_2016', 'Genre_Action',\n",
      "       'Genre_Adventure', 'Genre_Fighting', 'Genre_Misc', 'Genre_Platform',\n",
      "       'Genre_Puzzle', 'Genre_Racing', 'Genre_Role-Playing', 'Genre_Shooter',\n",
      "       'Genre_Simulation', 'Genre_Sports', 'Genre_Strategy',\n",
      "       'Publisher_Activision', 'Publisher_Electronic Arts', 'Publisher_other',\n",
      "       'Rating_AO', 'Rating_E', 'Rating_E10+', 'Rating_K-A', 'Rating_M',\n",
      "       'Rating_RP', 'Rating_T'],\n",
      "      dtype='object')\n"
     ]
    }
   ],
   "source": [
    "data_nonbinary = pd.get_dummies(data[nonbinary_columns])\n",
    "print(data_nonbinary.columns)"
   ]
  },
  {
   "cell_type": "markdown",
   "metadata": {},
   "source": [
    "# Нормализация количественных признаков"
   ]
  },
  {
   "cell_type": "markdown",
   "metadata": {},
   "source": [
    "Нормализуем количественные признаки (исключаем столбец Other_Sales)"
   ]
  },
  {
   "cell_type": "code",
   "execution_count": 25,
   "metadata": {},
   "outputs": [
    {
     "data": {
      "text/html": [
       "<div>\n",
       "<style scoped>\n",
       "    .dataframe tbody tr th:only-of-type {\n",
       "        vertical-align: middle;\n",
       "    }\n",
       "\n",
       "    .dataframe tbody tr th {\n",
       "        vertical-align: top;\n",
       "    }\n",
       "\n",
       "    .dataframe thead th {\n",
       "        text-align: right;\n",
       "    }\n",
       "</style>\n",
       "<table border=\"1\" class=\"dataframe\">\n",
       "  <thead>\n",
       "    <tr style=\"text-align: right;\">\n",
       "      <th></th>\n",
       "      <th>NA_Sales</th>\n",
       "      <th>JP_Sales</th>\n",
       "      <th>Critic_Score</th>\n",
       "      <th>Critic_Count</th>\n",
       "      <th>User_Score</th>\n",
       "      <th>User_Count</th>\n",
       "    </tr>\n",
       "  </thead>\n",
       "  <tbody>\n",
       "    <tr>\n",
       "      <th>count</th>\n",
       "      <td>6826.000000</td>\n",
       "      <td>6826.000000</td>\n",
       "      <td>6826.000000</td>\n",
       "      <td>6826.000000</td>\n",
       "      <td>6826.000000</td>\n",
       "      <td>6826.000000</td>\n",
       "    </tr>\n",
       "    <tr>\n",
       "      <th>mean</th>\n",
       "      <td>0.394435</td>\n",
       "      <td>0.064149</td>\n",
       "      <td>70.268679</td>\n",
       "      <td>28.931146</td>\n",
       "      <td>7.185013</td>\n",
       "      <td>174.748022</td>\n",
       "    </tr>\n",
       "    <tr>\n",
       "      <th>std</th>\n",
       "      <td>0.967323</td>\n",
       "      <td>0.287550</td>\n",
       "      <td>13.870417</td>\n",
       "      <td>19.222757</td>\n",
       "      <td>1.440727</td>\n",
       "      <td>587.389332</td>\n",
       "    </tr>\n",
       "    <tr>\n",
       "      <th>min</th>\n",
       "      <td>0.000000</td>\n",
       "      <td>0.000000</td>\n",
       "      <td>13.000000</td>\n",
       "      <td>3.000000</td>\n",
       "      <td>0.500000</td>\n",
       "      <td>4.000000</td>\n",
       "    </tr>\n",
       "    <tr>\n",
       "      <th>25%</th>\n",
       "      <td>0.060000</td>\n",
       "      <td>0.000000</td>\n",
       "      <td>62.000000</td>\n",
       "      <td>14.000000</td>\n",
       "      <td>6.500000</td>\n",
       "      <td>11.000000</td>\n",
       "    </tr>\n",
       "    <tr>\n",
       "      <th>50%</th>\n",
       "      <td>0.150000</td>\n",
       "      <td>0.000000</td>\n",
       "      <td>72.000000</td>\n",
       "      <td>25.000000</td>\n",
       "      <td>7.500000</td>\n",
       "      <td>27.000000</td>\n",
       "    </tr>\n",
       "    <tr>\n",
       "      <th>75%</th>\n",
       "      <td>0.390000</td>\n",
       "      <td>0.010000</td>\n",
       "      <td>80.000000</td>\n",
       "      <td>39.000000</td>\n",
       "      <td>8.200000</td>\n",
       "      <td>89.000000</td>\n",
       "    </tr>\n",
       "    <tr>\n",
       "      <th>max</th>\n",
       "      <td>41.360000</td>\n",
       "      <td>6.500000</td>\n",
       "      <td>98.000000</td>\n",
       "      <td>113.000000</td>\n",
       "      <td>9.600000</td>\n",
       "      <td>10665.000000</td>\n",
       "    </tr>\n",
       "  </tbody>\n",
       "</table>\n",
       "</div>"
      ],
      "text/plain": [
       "          NA_Sales     JP_Sales  Critic_Score  Critic_Count   User_Score  \\\n",
       "count  6826.000000  6826.000000   6826.000000   6826.000000  6826.000000   \n",
       "mean      0.394435     0.064149     70.268679     28.931146     7.185013   \n",
       "std       0.967323     0.287550     13.870417     19.222757     1.440727   \n",
       "min       0.000000     0.000000     13.000000      3.000000     0.500000   \n",
       "25%       0.060000     0.000000     62.000000     14.000000     6.500000   \n",
       "50%       0.150000     0.000000     72.000000     25.000000     7.500000   \n",
       "75%       0.390000     0.010000     80.000000     39.000000     8.200000   \n",
       "max      41.360000     6.500000     98.000000    113.000000     9.600000   \n",
       "\n",
       "         User_Count  \n",
       "count   6826.000000  \n",
       "mean     174.748022  \n",
       "std      587.389332  \n",
       "min        4.000000  \n",
       "25%       11.000000  \n",
       "50%       27.000000  \n",
       "75%       89.000000  \n",
       "max    10665.000000  "
      ]
     },
     "execution_count": 25,
     "metadata": {},
     "output_type": "execute_result"
    }
   ],
   "source": [
    "data_numerical = data[numerical_columns]\n",
    "data_numerical = data_numerical.drop('Other_Sales',   axis = 1)\n",
    "data_numerical.describe()"
   ]
  },
  {
   "cell_type": "code",
   "execution_count": 26,
   "metadata": {},
   "outputs": [],
   "source": [
    "data_numerical = (data_numerical - data_numerical.mean(axis = 0))/data_numerical.std(axis = 0)"
   ]
  },
  {
   "cell_type": "code",
   "execution_count": 27,
   "metadata": {},
   "outputs": [
    {
     "data": {
      "text/html": [
       "<div>\n",
       "<style scoped>\n",
       "    .dataframe tbody tr th:only-of-type {\n",
       "        vertical-align: middle;\n",
       "    }\n",
       "\n",
       "    .dataframe tbody tr th {\n",
       "        vertical-align: top;\n",
       "    }\n",
       "\n",
       "    .dataframe thead th {\n",
       "        text-align: right;\n",
       "    }\n",
       "</style>\n",
       "<table border=\"1\" class=\"dataframe\">\n",
       "  <thead>\n",
       "    <tr style=\"text-align: right;\">\n",
       "      <th></th>\n",
       "      <th>NA_Sales</th>\n",
       "      <th>JP_Sales</th>\n",
       "      <th>Critic_Score</th>\n",
       "      <th>Critic_Count</th>\n",
       "      <th>User_Score</th>\n",
       "      <th>User_Count</th>\n",
       "    </tr>\n",
       "  </thead>\n",
       "  <tbody>\n",
       "    <tr>\n",
       "      <th>count</th>\n",
       "      <td>6.826000e+03</td>\n",
       "      <td>6.826000e+03</td>\n",
       "      <td>6.826000e+03</td>\n",
       "      <td>6.826000e+03</td>\n",
       "      <td>6.826000e+03</td>\n",
       "      <td>6.826000e+03</td>\n",
       "    </tr>\n",
       "    <tr>\n",
       "      <th>mean</th>\n",
       "      <td>-2.004406e-14</td>\n",
       "      <td>-1.239450e-14</td>\n",
       "      <td>7.140657e-16</td>\n",
       "      <td>-3.199902e-16</td>\n",
       "      <td>-2.375561e-14</td>\n",
       "      <td>-5.686925e-17</td>\n",
       "    </tr>\n",
       "    <tr>\n",
       "      <th>std</th>\n",
       "      <td>1.000000e+00</td>\n",
       "      <td>1.000000e+00</td>\n",
       "      <td>1.000000e+00</td>\n",
       "      <td>1.000000e+00</td>\n",
       "      <td>1.000000e+00</td>\n",
       "      <td>1.000000e+00</td>\n",
       "    </tr>\n",
       "    <tr>\n",
       "      <th>min</th>\n",
       "      <td>-4.077589e-01</td>\n",
       "      <td>-2.230880e-01</td>\n",
       "      <td>-4.128836e+00</td>\n",
       "      <td>-1.348982e+00</td>\n",
       "      <td>-4.640027e+00</td>\n",
       "      <td>-2.906897e-01</td>\n",
       "    </tr>\n",
       "    <tr>\n",
       "      <th>25%</th>\n",
       "      <td>-3.457320e-01</td>\n",
       "      <td>-2.230880e-01</td>\n",
       "      <td>-5.961377e-01</td>\n",
       "      <td>-7.767432e-01</td>\n",
       "      <td>-4.754635e-01</td>\n",
       "      <td>-2.787726e-01</td>\n",
       "    </tr>\n",
       "    <tr>\n",
       "      <th>50%</th>\n",
       "      <td>-2.526917e-01</td>\n",
       "      <td>-2.230880e-01</td>\n",
       "      <td>1.248212e-01</td>\n",
       "      <td>-2.045048e-01</td>\n",
       "      <td>2.186304e-01</td>\n",
       "      <td>-2.515334e-01</td>\n",
       "    </tr>\n",
       "    <tr>\n",
       "      <th>75%</th>\n",
       "      <td>-4.584317e-03</td>\n",
       "      <td>-1.883114e-01</td>\n",
       "      <td>7.015883e-01</td>\n",
       "      <td>5.237987e-01</td>\n",
       "      <td>7.044962e-01</td>\n",
       "      <td>-1.459816e-01</td>\n",
       "    </tr>\n",
       "    <tr>\n",
       "      <th>max</th>\n",
       "      <td>4.234942e+01</td>\n",
       "      <td>2.238171e+01</td>\n",
       "      <td>1.999314e+00</td>\n",
       "      <td>4.373403e+00</td>\n",
       "      <td>1.676228e+00</td>\n",
       "      <td>1.785911e+01</td>\n",
       "    </tr>\n",
       "  </tbody>\n",
       "</table>\n",
       "</div>"
      ],
      "text/plain": [
       "           NA_Sales      JP_Sales  Critic_Score  Critic_Count    User_Score  \\\n",
       "count  6.826000e+03  6.826000e+03  6.826000e+03  6.826000e+03  6.826000e+03   \n",
       "mean  -2.004406e-14 -1.239450e-14  7.140657e-16 -3.199902e-16 -2.375561e-14   \n",
       "std    1.000000e+00  1.000000e+00  1.000000e+00  1.000000e+00  1.000000e+00   \n",
       "min   -4.077589e-01 -2.230880e-01 -4.128836e+00 -1.348982e+00 -4.640027e+00   \n",
       "25%   -3.457320e-01 -2.230880e-01 -5.961377e-01 -7.767432e-01 -4.754635e-01   \n",
       "50%   -2.526917e-01 -2.230880e-01  1.248212e-01 -2.045048e-01  2.186304e-01   \n",
       "75%   -4.584317e-03 -1.883114e-01  7.015883e-01  5.237987e-01  7.044962e-01   \n",
       "max    4.234942e+01  2.238171e+01  1.999314e+00  4.373403e+00  1.676228e+00   \n",
       "\n",
       "         User_Count  \n",
       "count  6.826000e+03  \n",
       "mean  -5.686925e-17  \n",
       "std    1.000000e+00  \n",
       "min   -2.906897e-01  \n",
       "25%   -2.787726e-01  \n",
       "50%   -2.515334e-01  \n",
       "75%   -1.459816e-01  \n",
       "max    1.785911e+01  "
      ]
     },
     "execution_count": 27,
     "metadata": {},
     "output_type": "execute_result"
    }
   ],
   "source": [
    "data_numerical.describe()"
   ]
  },
  {
   "cell_type": "markdown",
   "metadata": {},
   "source": [
    "# Соединение в одну таблицу"
   ]
  },
  {
   "cell_type": "code",
   "execution_count": 28,
   "metadata": {},
   "outputs": [
    {
     "name": "stdout",
     "output_type": "stream",
     "text": [
      "(6826, 71)\n"
     ]
    }
   ],
   "source": [
    "data_binary = data['Other_Sales']\n",
    "data = pd.concat((data_numerical, data_nonbinary, data_binary), axis = 1)\n",
    "print(data.shape)"
   ]
  },
  {
   "cell_type": "code",
   "execution_count": 29,
   "metadata": {},
   "outputs": [
    {
     "data": {
      "text/html": [
       "<div>\n",
       "<style scoped>\n",
       "    .dataframe tbody tr th:only-of-type {\n",
       "        vertical-align: middle;\n",
       "    }\n",
       "\n",
       "    .dataframe tbody tr th {\n",
       "        vertical-align: top;\n",
       "    }\n",
       "\n",
       "    .dataframe thead th {\n",
       "        text-align: right;\n",
       "    }\n",
       "</style>\n",
       "<table border=\"1\" class=\"dataframe\">\n",
       "  <thead>\n",
       "    <tr style=\"text-align: right;\">\n",
       "      <th></th>\n",
       "      <th>NA_Sales</th>\n",
       "      <th>JP_Sales</th>\n",
       "      <th>Critic_Score</th>\n",
       "      <th>Critic_Count</th>\n",
       "      <th>User_Score</th>\n",
       "      <th>User_Count</th>\n",
       "      <th>Platform_3DS</th>\n",
       "      <th>Platform_DC</th>\n",
       "      <th>Platform_DS</th>\n",
       "      <th>Platform_GBA</th>\n",
       "      <th>...</th>\n",
       "      <th>Publisher_Electronic Arts</th>\n",
       "      <th>Publisher_other</th>\n",
       "      <th>Rating_AO</th>\n",
       "      <th>Rating_E</th>\n",
       "      <th>Rating_E10+</th>\n",
       "      <th>Rating_K-A</th>\n",
       "      <th>Rating_M</th>\n",
       "      <th>Rating_RP</th>\n",
       "      <th>Rating_T</th>\n",
       "      <th>Other_Sales</th>\n",
       "    </tr>\n",
       "  </thead>\n",
       "  <tbody>\n",
       "    <tr>\n",
       "      <th>count</th>\n",
       "      <td>6.826000e+03</td>\n",
       "      <td>6.826000e+03</td>\n",
       "      <td>6.826000e+03</td>\n",
       "      <td>6.826000e+03</td>\n",
       "      <td>6.826000e+03</td>\n",
       "      <td>6.826000e+03</td>\n",
       "      <td>6826.000000</td>\n",
       "      <td>6826.000000</td>\n",
       "      <td>6826.000000</td>\n",
       "      <td>6826.000000</td>\n",
       "      <td>...</td>\n",
       "      <td>6826.000000</td>\n",
       "      <td>6826.000000</td>\n",
       "      <td>6826.000000</td>\n",
       "      <td>6826.000000</td>\n",
       "      <td>6826.000000</td>\n",
       "      <td>6826.000000</td>\n",
       "      <td>6826.000000</td>\n",
       "      <td>6826.000000</td>\n",
       "      <td>6826.000000</td>\n",
       "      <td>6826.000000</td>\n",
       "    </tr>\n",
       "    <tr>\n",
       "      <th>mean</th>\n",
       "      <td>-2.004406e-14</td>\n",
       "      <td>-1.239450e-14</td>\n",
       "      <td>7.140657e-16</td>\n",
       "      <td>-3.199902e-16</td>\n",
       "      <td>-2.375561e-14</td>\n",
       "      <td>-5.686925e-17</td>\n",
       "      <td>0.022707</td>\n",
       "      <td>0.002051</td>\n",
       "      <td>0.067975</td>\n",
       "      <td>0.034720</td>\n",
       "      <td>...</td>\n",
       "      <td>0.138295</td>\n",
       "      <td>0.789628</td>\n",
       "      <td>0.000146</td>\n",
       "      <td>0.305010</td>\n",
       "      <td>0.136244</td>\n",
       "      <td>0.000146</td>\n",
       "      <td>0.209933</td>\n",
       "      <td>0.000146</td>\n",
       "      <td>0.348374</td>\n",
       "      <td>0.049663</td>\n",
       "    </tr>\n",
       "    <tr>\n",
       "      <th>std</th>\n",
       "      <td>1.000000e+00</td>\n",
       "      <td>1.000000e+00</td>\n",
       "      <td>1.000000e+00</td>\n",
       "      <td>1.000000e+00</td>\n",
       "      <td>1.000000e+00</td>\n",
       "      <td>1.000000e+00</td>\n",
       "      <td>0.148980</td>\n",
       "      <td>0.045245</td>\n",
       "      <td>0.251722</td>\n",
       "      <td>0.183084</td>\n",
       "      <td>...</td>\n",
       "      <td>0.345234</td>\n",
       "      <td>0.407603</td>\n",
       "      <td>0.012104</td>\n",
       "      <td>0.460446</td>\n",
       "      <td>0.343072</td>\n",
       "      <td>0.012104</td>\n",
       "      <td>0.407290</td>\n",
       "      <td>0.012104</td>\n",
       "      <td>0.476490</td>\n",
       "      <td>0.217264</td>\n",
       "    </tr>\n",
       "    <tr>\n",
       "      <th>min</th>\n",
       "      <td>-4.077589e-01</td>\n",
       "      <td>-2.230880e-01</td>\n",
       "      <td>-4.128836e+00</td>\n",
       "      <td>-1.348982e+00</td>\n",
       "      <td>-4.640027e+00</td>\n",
       "      <td>-2.906897e-01</td>\n",
       "      <td>0.000000</td>\n",
       "      <td>0.000000</td>\n",
       "      <td>0.000000</td>\n",
       "      <td>0.000000</td>\n",
       "      <td>...</td>\n",
       "      <td>0.000000</td>\n",
       "      <td>0.000000</td>\n",
       "      <td>0.000000</td>\n",
       "      <td>0.000000</td>\n",
       "      <td>0.000000</td>\n",
       "      <td>0.000000</td>\n",
       "      <td>0.000000</td>\n",
       "      <td>0.000000</td>\n",
       "      <td>0.000000</td>\n",
       "      <td>0.000000</td>\n",
       "    </tr>\n",
       "    <tr>\n",
       "      <th>25%</th>\n",
       "      <td>-3.457320e-01</td>\n",
       "      <td>-2.230880e-01</td>\n",
       "      <td>-5.961377e-01</td>\n",
       "      <td>-7.767432e-01</td>\n",
       "      <td>-4.754635e-01</td>\n",
       "      <td>-2.787726e-01</td>\n",
       "      <td>0.000000</td>\n",
       "      <td>0.000000</td>\n",
       "      <td>0.000000</td>\n",
       "      <td>0.000000</td>\n",
       "      <td>...</td>\n",
       "      <td>0.000000</td>\n",
       "      <td>1.000000</td>\n",
       "      <td>0.000000</td>\n",
       "      <td>0.000000</td>\n",
       "      <td>0.000000</td>\n",
       "      <td>0.000000</td>\n",
       "      <td>0.000000</td>\n",
       "      <td>0.000000</td>\n",
       "      <td>0.000000</td>\n",
       "      <td>0.000000</td>\n",
       "    </tr>\n",
       "    <tr>\n",
       "      <th>50%</th>\n",
       "      <td>-2.526917e-01</td>\n",
       "      <td>-2.230880e-01</td>\n",
       "      <td>1.248212e-01</td>\n",
       "      <td>-2.045048e-01</td>\n",
       "      <td>2.186304e-01</td>\n",
       "      <td>-2.515334e-01</td>\n",
       "      <td>0.000000</td>\n",
       "      <td>0.000000</td>\n",
       "      <td>0.000000</td>\n",
       "      <td>0.000000</td>\n",
       "      <td>...</td>\n",
       "      <td>0.000000</td>\n",
       "      <td>1.000000</td>\n",
       "      <td>0.000000</td>\n",
       "      <td>0.000000</td>\n",
       "      <td>0.000000</td>\n",
       "      <td>0.000000</td>\n",
       "      <td>0.000000</td>\n",
       "      <td>0.000000</td>\n",
       "      <td>0.000000</td>\n",
       "      <td>0.000000</td>\n",
       "    </tr>\n",
       "    <tr>\n",
       "      <th>75%</th>\n",
       "      <td>-4.584317e-03</td>\n",
       "      <td>-1.883114e-01</td>\n",
       "      <td>7.015883e-01</td>\n",
       "      <td>5.237987e-01</td>\n",
       "      <td>7.044962e-01</td>\n",
       "      <td>-1.459816e-01</td>\n",
       "      <td>0.000000</td>\n",
       "      <td>0.000000</td>\n",
       "      <td>0.000000</td>\n",
       "      <td>0.000000</td>\n",
       "      <td>...</td>\n",
       "      <td>0.000000</td>\n",
       "      <td>1.000000</td>\n",
       "      <td>0.000000</td>\n",
       "      <td>1.000000</td>\n",
       "      <td>0.000000</td>\n",
       "      <td>0.000000</td>\n",
       "      <td>0.000000</td>\n",
       "      <td>0.000000</td>\n",
       "      <td>1.000000</td>\n",
       "      <td>0.000000</td>\n",
       "    </tr>\n",
       "    <tr>\n",
       "      <th>max</th>\n",
       "      <td>4.234942e+01</td>\n",
       "      <td>2.238171e+01</td>\n",
       "      <td>1.999314e+00</td>\n",
       "      <td>4.373403e+00</td>\n",
       "      <td>1.676228e+00</td>\n",
       "      <td>1.785911e+01</td>\n",
       "      <td>1.000000</td>\n",
       "      <td>1.000000</td>\n",
       "      <td>1.000000</td>\n",
       "      <td>1.000000</td>\n",
       "      <td>...</td>\n",
       "      <td>1.000000</td>\n",
       "      <td>1.000000</td>\n",
       "      <td>1.000000</td>\n",
       "      <td>1.000000</td>\n",
       "      <td>1.000000</td>\n",
       "      <td>1.000000</td>\n",
       "      <td>1.000000</td>\n",
       "      <td>1.000000</td>\n",
       "      <td>1.000000</td>\n",
       "      <td>1.000000</td>\n",
       "    </tr>\n",
       "  </tbody>\n",
       "</table>\n",
       "<p>8 rows × 71 columns</p>\n",
       "</div>"
      ],
      "text/plain": [
       "           NA_Sales      JP_Sales  Critic_Score  Critic_Count    User_Score  \\\n",
       "count  6.826000e+03  6.826000e+03  6.826000e+03  6.826000e+03  6.826000e+03   \n",
       "mean  -2.004406e-14 -1.239450e-14  7.140657e-16 -3.199902e-16 -2.375561e-14   \n",
       "std    1.000000e+00  1.000000e+00  1.000000e+00  1.000000e+00  1.000000e+00   \n",
       "min   -4.077589e-01 -2.230880e-01 -4.128836e+00 -1.348982e+00 -4.640027e+00   \n",
       "25%   -3.457320e-01 -2.230880e-01 -5.961377e-01 -7.767432e-01 -4.754635e-01   \n",
       "50%   -2.526917e-01 -2.230880e-01  1.248212e-01 -2.045048e-01  2.186304e-01   \n",
       "75%   -4.584317e-03 -1.883114e-01  7.015883e-01  5.237987e-01  7.044962e-01   \n",
       "max    4.234942e+01  2.238171e+01  1.999314e+00  4.373403e+00  1.676228e+00   \n",
       "\n",
       "         User_Count  Platform_3DS  Platform_DC  Platform_DS  Platform_GBA  \\\n",
       "count  6.826000e+03   6826.000000  6826.000000  6826.000000   6826.000000   \n",
       "mean  -5.686925e-17      0.022707     0.002051     0.067975      0.034720   \n",
       "std    1.000000e+00      0.148980     0.045245     0.251722      0.183084   \n",
       "min   -2.906897e-01      0.000000     0.000000     0.000000      0.000000   \n",
       "25%   -2.787726e-01      0.000000     0.000000     0.000000      0.000000   \n",
       "50%   -2.515334e-01      0.000000     0.000000     0.000000      0.000000   \n",
       "75%   -1.459816e-01      0.000000     0.000000     0.000000      0.000000   \n",
       "max    1.785911e+01      1.000000     1.000000     1.000000      1.000000   \n",
       "\n",
       "          ...       Publisher_Electronic Arts  Publisher_other    Rating_AO  \\\n",
       "count     ...                     6826.000000      6826.000000  6826.000000   \n",
       "mean      ...                        0.138295         0.789628     0.000146   \n",
       "std       ...                        0.345234         0.407603     0.012104   \n",
       "min       ...                        0.000000         0.000000     0.000000   \n",
       "25%       ...                        0.000000         1.000000     0.000000   \n",
       "50%       ...                        0.000000         1.000000     0.000000   \n",
       "75%       ...                        0.000000         1.000000     0.000000   \n",
       "max       ...                        1.000000         1.000000     1.000000   \n",
       "\n",
       "          Rating_E  Rating_E10+   Rating_K-A     Rating_M    Rating_RP  \\\n",
       "count  6826.000000  6826.000000  6826.000000  6826.000000  6826.000000   \n",
       "mean      0.305010     0.136244     0.000146     0.209933     0.000146   \n",
       "std       0.460446     0.343072     0.012104     0.407290     0.012104   \n",
       "min       0.000000     0.000000     0.000000     0.000000     0.000000   \n",
       "25%       0.000000     0.000000     0.000000     0.000000     0.000000   \n",
       "50%       0.000000     0.000000     0.000000     0.000000     0.000000   \n",
       "75%       1.000000     0.000000     0.000000     0.000000     0.000000   \n",
       "max       1.000000     1.000000     1.000000     1.000000     1.000000   \n",
       "\n",
       "          Rating_T  Other_Sales  \n",
       "count  6826.000000  6826.000000  \n",
       "mean      0.348374     0.049663  \n",
       "std       0.476490     0.217264  \n",
       "min       0.000000     0.000000  \n",
       "25%       0.000000     0.000000  \n",
       "50%       0.000000     0.000000  \n",
       "75%       1.000000     0.000000  \n",
       "max       1.000000     1.000000  \n",
       "\n",
       "[8 rows x 71 columns]"
      ]
     },
     "execution_count": 29,
     "metadata": {},
     "output_type": "execute_result"
    }
   ],
   "source": [
    "data.describe()"
   ]
  },
  {
   "cell_type": "markdown",
   "metadata": {},
   "source": [
    "# X и y"
   ]
  },
  {
   "cell_type": "markdown",
   "metadata": {},
   "source": [
    "Выделяем X и Y, отделяя столбец Other_Sales"
   ]
  },
  {
   "cell_type": "code",
   "execution_count": 30,
   "metadata": {},
   "outputs": [],
   "source": [
    "X = data.drop(('Other_Sales'), axis = 1) \n",
    "y = data['Other_Sales']\n",
    "feature_names = X.columns"
   ]
  },
  {
   "cell_type": "code",
   "execution_count": 31,
   "metadata": {},
   "outputs": [
    {
     "data": {
      "text/plain": [
       "pandas.core.indexes.base.Index"
      ]
     },
     "execution_count": 31,
     "metadata": {},
     "output_type": "execute_result"
    }
   ],
   "source": [
    "type(feature_names)"
   ]
  },
  {
   "cell_type": "code",
   "execution_count": 32,
   "metadata": {},
   "outputs": [
    {
     "data": {
      "text/plain": [
       "Index(['NA_Sales', 'JP_Sales', 'Critic_Score', 'Critic_Count', 'User_Score',\n",
       "       'User_Count', 'Platform_3DS', 'Platform_DC', 'Platform_DS',\n",
       "       'Platform_GBA', 'Platform_GC', 'Platform_PC', 'Platform_PS',\n",
       "       'Platform_PS2', 'Platform_PS3', 'Platform_PS4', 'Platform_PSP',\n",
       "       'Platform_PSV', 'Platform_Wii', 'Platform_WiiU', 'Platform_X360',\n",
       "       'Platform_XB', 'Platform_XOne', 'Year_of_Release_1985',\n",
       "       'Year_of_Release_1988', 'Year_of_Release_1992', 'Year_of_Release_1994',\n",
       "       'Year_of_Release_1996', 'Year_of_Release_1997', 'Year_of_Release_1998',\n",
       "       'Year_of_Release_1999', 'Year_of_Release_2000', 'Year_of_Release_2001',\n",
       "       'Year_of_Release_2002', 'Year_of_Release_2003', 'Year_of_Release_2004',\n",
       "       'Year_of_Release_2005', 'Year_of_Release_2006', 'Year_of_Release_2007',\n",
       "       'Year_of_Release_2008', 'Year_of_Release_2009', 'Year_of_Release_2010',\n",
       "       'Year_of_Release_2011', 'Year_of_Release_2012', 'Year_of_Release_2013',\n",
       "       'Year_of_Release_2014', 'Year_of_Release_2015', 'Year_of_Release_2016',\n",
       "       'Genre_Action', 'Genre_Adventure', 'Genre_Fighting', 'Genre_Misc',\n",
       "       'Genre_Platform', 'Genre_Puzzle', 'Genre_Racing', 'Genre_Role-Playing',\n",
       "       'Genre_Shooter', 'Genre_Simulation', 'Genre_Sports', 'Genre_Strategy',\n",
       "       'Publisher_Activision', 'Publisher_Electronic Arts', 'Publisher_other',\n",
       "       'Rating_AO', 'Rating_E', 'Rating_E10+', 'Rating_K-A', 'Rating_M',\n",
       "       'Rating_RP', 'Rating_T'],\n",
       "      dtype='object')"
      ]
     },
     "execution_count": 32,
     "metadata": {},
     "output_type": "execute_result"
    }
   ],
   "source": [
    "feature_names"
   ]
  },
  {
   "cell_type": "code",
   "execution_count": 33,
   "metadata": {},
   "outputs": [
    {
     "name": "stdout",
     "output_type": "stream",
     "text": [
      "(6826, 70)\n",
      "(6826,)\n"
     ]
    }
   ],
   "source": [
    "print(X.shape)\n",
    "print(y.shape)\n",
    "N, d = X.shape"
   ]
  },
  {
   "cell_type": "code",
   "execution_count": 34,
   "metadata": {},
   "outputs": [
    {
     "data": {
      "text/plain": [
       "pandas.core.frame.DataFrame"
      ]
     },
     "execution_count": 34,
     "metadata": {},
     "output_type": "execute_result"
    }
   ],
   "source": [
    "type(X)"
   ]
  },
  {
   "cell_type": "code",
   "execution_count": 35,
   "metadata": {},
   "outputs": [
    {
     "data": {
      "text/plain": [
       "pandas.core.series.Series"
      ]
     },
     "execution_count": 35,
     "metadata": {},
     "output_type": "execute_result"
    }
   ],
   "source": [
    "type(y)"
   ]
  },
  {
   "cell_type": "markdown",
   "metadata": {},
   "source": [
    "Разделяем на обучающую (70%) и тестовую (30%) выборки. "
   ]
  },
  {
   "cell_type": "code",
   "execution_count": 236,
   "metadata": {},
   "outputs": [
    {
     "name": "stdout",
     "output_type": "stream",
     "text": [
      "4778 2048\n"
     ]
    }
   ],
   "source": [
    "from sklearn.model_selection import train_test_split\n",
    "X_train, X_test, y_train, y_test = train_test_split(X, y, test_size = 0.3, random_state = 42)\n",
    "\n",
    "N_train, _ = X_train.shape \n",
    "N_test,  _ = X_test.shape \n",
    "\n",
    "print(N_train, N_test)"
   ]
  },
  {
   "cell_type": "code",
   "execution_count": 38,
   "metadata": {},
   "outputs": [
    {
     "data": {
      "text/plain": [
       "6826"
      ]
     },
     "execution_count": 38,
     "metadata": {},
     "output_type": "execute_result"
    }
   ],
   "source": [
    "4778 + 2048"
   ]
  },
  {
   "cell_type": "markdown",
   "metadata": {},
   "source": [
    "# kNN"
   ]
  },
  {
   "cell_type": "markdown",
   "metadata": {},
   "source": [
    "Тренируем классификатор методом k ближайших соседей. Пусть количество соседей равно 10."
   ]
  },
  {
   "cell_type": "code",
   "execution_count": 76,
   "metadata": {},
   "outputs": [
    {
     "data": {
      "text/plain": [
       "KNeighborsClassifier(algorithm='auto', leaf_size=30, metric='minkowski',\n",
       "           metric_params=None, n_jobs=None, n_neighbors=10, p=2,\n",
       "           weights='uniform')"
      ]
     },
     "execution_count": 76,
     "metadata": {},
     "output_type": "execute_result"
    }
   ],
   "source": [
    "from sklearn.neighbors import KNeighborsClassifier\n",
    "\n",
    "knn = KNeighborsClassifier(n_neighbors = 10)\n",
    "#knn.set_params(n_neighbors=10)\n",
    "knn.fit(X_train, y_train)"
   ]
  },
  {
   "cell_type": "markdown",
   "metadata": {},
   "source": [
    "Посчитаем значения ошибок на тренировочной и тестовой выборке."
   ]
  },
  {
   "cell_type": "code",
   "execution_count": 77,
   "metadata": {},
   "outputs": [
    {
     "name": "stdout",
     "output_type": "stream",
     "text": [
      "0.0301381331100879 0.0439453125\n"
     ]
    }
   ],
   "source": [
    "y_train_predict = knn.predict(X_train)\n",
    "y_test_predict = knn.predict(X_test)\n",
    "\n",
    "err_train = np.mean(y_train != y_train_predict)\n",
    "err_test  = np.mean(y_test  != y_test_predict)\n",
    "\n",
    "print(err_train, err_test)"
   ]
  },
  {
   "cell_type": "code",
   "execution_count": 78,
   "metadata": {},
   "outputs": [],
   "source": [
    "err_test = 1 - knn.score(X_test, y_test)"
   ]
  },
  {
   "cell_type": "code",
   "execution_count": 79,
   "metadata": {},
   "outputs": [
    {
     "data": {
      "text/plain": [
       "0.0439453125"
      ]
     },
     "execution_count": 79,
     "metadata": {},
     "output_type": "execute_result"
    }
   ],
   "source": [
    "err_test"
   ]
  },
  {
   "cell_type": "markdown",
   "metadata": {},
   "source": [
    "Выводим матрицу несоответствий"
   ]
  },
  {
   "cell_type": "code",
   "execution_count": 80,
   "metadata": {},
   "outputs": [
    {
     "name": "stdout",
     "output_type": "stream",
     "text": [
      "[[1919    6]\n",
      " [  84   39]]\n"
     ]
    }
   ],
   "source": [
    "from sklearn.metrics import confusion_matrix\n",
    "\n",
    "print(confusion_matrix(y_test, y_test_predict))"
   ]
  },
  {
   "cell_type": "markdown",
   "metadata": {},
   "source": [
    "В 6 случаях не было угадано, что продаж будет меньше. В 84 случаях не было угадано, что продаж будет больше. "
   ]
  },
  {
   "cell_type": "markdown",
   "metadata": {},
   "source": [
    "# Подбор параметров"
   ]
  },
  {
   "cell_type": "markdown",
   "metadata": {},
   "source": [
    "Подбираем оптимальное количество соседей"
   ]
  },
  {
   "cell_type": "code",
   "execution_count": 81,
   "metadata": {},
   "outputs": [
    {
     "name": "stdout",
     "output_type": "stream",
     "text": [
      "0.028254499790707377 3\n"
     ]
    }
   ],
   "source": [
    "from sklearn.model_selection import GridSearchCV\n",
    "nnb = [1, 3, 5, 10, 15, 20, 25, 35, 45, 55]\n",
    "knn = KNeighborsClassifier()\n",
    "grid = GridSearchCV(knn, param_grid = {'n_neighbors': nnb}, cv=10)\n",
    "grid.fit(X_train, y_train)\n",
    "\n",
    "best_cv_err = 1 - grid.best_score_\n",
    "best_n_neighbors = grid.best_estimator_.n_neighbors\n",
    "print(best_cv_err, best_n_neighbors)"
   ]
  },
  {
   "cell_type": "markdown",
   "metadata": {},
   "source": [
    "Оптимальное количество соседей равно 3. Также представлена ошибка на тренировочной выборке."
   ]
  },
  {
   "cell_type": "code",
   "execution_count": 82,
   "metadata": {},
   "outputs": [
    {
     "name": "stdout",
     "output_type": "stream",
     "text": [
      "0.018627040602762664 0.03857421875\n"
     ]
    }
   ],
   "source": [
    "knn = KNeighborsClassifier(n_neighbors = best_n_neighbors).fit(X_train, y_train)\n",
    "\n",
    "err_train = np.mean(y_train != knn.predict(X_train))\n",
    "err_test  = np.mean(y_test  != knn.predict(X_test))\n",
    "\n",
    "print(err_train, err_test)"
   ]
  },
  {
   "cell_type": "markdown",
   "metadata": {},
   "source": [
    "Результат на тренировочной выборке значительно улучшился, а на тестовой улучшился незначительно."
   ]
  },
  {
   "cell_type": "markdown",
   "metadata": {},
   "source": [
    "# SVC"
   ]
  },
  {
   "cell_type": "markdown",
   "metadata": {},
   "source": [
    "Строим классификатор с помощью машины опорных векторов, выводим ошибки на тестовой и обучающей выборках, а также матрицу несоответствий."
   ]
  },
  {
   "cell_type": "code",
   "execution_count": 84,
   "metadata": {},
   "outputs": [
    {
     "name": "stdout",
     "output_type": "stream",
     "text": [
      "0.02678945165341147 0.0419921875\n"
     ]
    },
    {
     "name": "stderr",
     "output_type": "stream",
     "text": [
      "C:\\Users\\user\\Anaconda3\\lib\\site-packages\\sklearn\\svm\\base.py:196: FutureWarning: The default value of gamma will change from 'auto' to 'scale' in version 0.22 to account better for unscaled features. Set gamma explicitly to 'auto' or 'scale' to avoid this warning.\n",
      "  \"avoid this warning.\", FutureWarning)\n"
     ]
    }
   ],
   "source": [
    "from sklearn.svm import SVC\n",
    "svc = SVC()\n",
    "svc.fit(X_train, y_train)\n",
    "\n",
    "err_train = np.mean(y_train != svc.predict(X_train))\n",
    "err_test  = np.mean(y_test  != svc.predict(X_test))\n",
    "\n",
    "print(err_train, err_test)"
   ]
  },
  {
   "cell_type": "markdown",
   "metadata": {},
   "source": [
    "Подбор параметров"
   ]
  },
  {
   "cell_type": "code",
   "execution_count": 147,
   "metadata": {},
   "outputs": [
    {
     "name": "stderr",
     "output_type": "stream",
     "text": [
      "C:\\Users\\user\\Anaconda3\\lib\\site-packages\\sklearn\\model_selection\\_split.py:2053: FutureWarning: You should specify a value for 'cv' instead of relying on the default value. The default value will change from 3 to 5 in version 0.22.\n",
      "  warnings.warn(CV_WARNING, FutureWarning)\n"
     ]
    },
    {
     "name": "stdout",
     "output_type": "stream",
     "text": [
      "0.028673084972791973 100.0\n"
     ]
    }
   ],
   "source": [
    "from sklearn.model_selection import GridSearchCV\n",
    "Cs = 10.**np.arange(-5, 5)\n",
    "gamma_array = 10.**np.arange(-5, 5)\n",
    "svc = SVC()\n",
    "grid = GridSearchCV(svc, param_grid = {'C': Cs, 'gamma': gamma_array})\n",
    "grid.fit(X_train, y_train)\n",
    "\n",
    "best_cv_err = 1 - grid.best_score_\n",
    "best_C = grid.best_estimator_.C\n",
    "print(best_cv_err, best_C)"
   ]
  },
  {
   "cell_type": "code",
   "execution_count": 148,
   "metadata": {},
   "outputs": [
    {
     "name": "stderr",
     "output_type": "stream",
     "text": [
      "C:\\Users\\user\\Anaconda3\\lib\\site-packages\\sklearn\\svm\\base.py:196: FutureWarning: The default value of gamma will change from 'auto' to 'scale' in version 0.22 to account better for unscaled features. Set gamma explicitly to 'auto' or 'scale' to avoid this warning.\n",
      "  \"avoid this warning.\", FutureWarning)\n"
     ]
    },
    {
     "name": "stdout",
     "output_type": "stream",
     "text": [
      "0.018627040602762664 0.03857421875\n"
     ]
    }
   ],
   "source": [
    "svc = SVC(C = best_C).fit(X_train, y_train)\n",
    "\n",
    "err_train = np.mean(y_train != knn.predict(X_train))\n",
    "err_test  = np.mean(y_test  != knn.predict(X_test))\n",
    "\n",
    "print(err_train, err_test)"
   ]
  },
  {
   "cell_type": "markdown",
   "metadata": {},
   "source": [
    "На обучающей и тестовой выборках данный классификатор работает также, как и kNN."
   ]
  },
  {
   "cell_type": "markdown",
   "metadata": {},
   "source": [
    "# Random Forest"
   ]
  },
  {
   "cell_type": "markdown",
   "metadata": {},
   "source": [
    "Строим классификатор Random Forest. Выводим ошибки на тестовой и обучающей выборках."
   ]
  },
  {
   "cell_type": "code",
   "execution_count": 245,
   "metadata": {},
   "outputs": [
    {
     "name": "stdout",
     "output_type": "stream",
     "text": [
      "0.0 0.03466796875\n"
     ]
    }
   ],
   "source": [
    "from sklearn import ensemble\n",
    "rf = ensemble.RandomForestClassifier(n_estimators = 1000)\n",
    "rf.fit(X_train, y_train)\n",
    "\n",
    "err_train = np.mean(y_train != rf.predict(X_train))\n",
    "err_test  = np.mean(y_test  != rf.predict(X_test))\n",
    "\n",
    "print(err_train, err_test)"
   ]
  },
  {
   "cell_type": "markdown",
   "metadata": {},
   "source": [
    "Данный классификатор работает на выборках лучше, чем предыдущие."
   ]
  },
  {
   "cell_type": "markdown",
   "metadata": {},
   "source": [
    "# Значимость признаков"
   ]
  },
  {
   "cell_type": "code",
   "execution_count": 246,
   "metadata": {},
   "outputs": [
    {
     "data": {
      "text/plain": [
       "1.0000000000000004"
      ]
     },
     "execution_count": 246,
     "metadata": {},
     "output_type": "execute_result"
    }
   ],
   "source": [
    "np.sum(rf.feature_importances_)"
   ]
  },
  {
   "cell_type": "code",
   "execution_count": 247,
   "metadata": {},
   "outputs": [
    {
     "name": "stdout",
     "output_type": "stream",
     "text": [
      "Feature ranking:\n",
      " 1. feature 'NA_Sales' (0.301861)\n",
      " 2. feature 'JP_Sales' (0.128211)\n",
      " 3. feature 'User_Count' (0.109241)\n",
      " 4. feature 'Critic_Count' (0.079254)\n",
      " 5. feature 'Critic_Score' (0.072244)\n",
      " 6. feature 'User_Score' (0.050664)\n",
      " 7. feature 'Rating_E' (0.013026)\n",
      " 8. feature 'Genre_Sports' (0.010831)\n",
      " 9. feature 'Publisher_Electronic Arts' (0.010701)\n",
      "10. feature 'Platform_PS2' (0.010381)\n",
      "11. feature 'Publisher_other' (0.010195)\n",
      "12. feature 'Rating_T' (0.009784)\n",
      "13. feature 'Genre_Action' (0.008766)\n",
      "14. feature 'Platform_X360' (0.007871)\n",
      "15. feature 'Rating_M' (0.007600)\n",
      "16. feature 'Platform_PC' (0.007501)\n",
      "17. feature 'Genre_Shooter' (0.007451)\n",
      "18. feature 'Platform_PS4' (0.007284)\n",
      "19. feature 'Year_of_Release_2007' (0.007140)\n",
      "20. feature 'Genre_Racing' (0.006276)\n",
      "21. feature 'Platform_Wii' (0.006081)\n",
      "22. feature 'Genre_Role-Playing' (0.006077)\n",
      "23. feature 'Publisher_Activision' (0.005841)\n",
      "24. feature 'Genre_Misc' (0.005827)\n",
      "25. feature 'Platform_PS3' (0.005748)\n",
      "26. feature 'Year_of_Release_2010' (0.005327)\n",
      "27. feature 'Year_of_Release_2002' (0.004971)\n",
      "28. feature 'Year_of_Release_2008' (0.004716)\n",
      "29. feature 'Rating_E10+' (0.004702)\n",
      "30. feature 'Year_of_Release_2009' (0.004547)\n",
      "31. feature 'Year_of_Release_2011' (0.004458)\n",
      "32. feature 'Year_of_Release_2006' (0.004395)\n",
      "33. feature 'Platform_DS' (0.004346)\n",
      "34. feature 'Year_of_Release_2003' (0.004266)\n",
      "35. feature 'Year_of_Release_2004' (0.004227)\n",
      "36. feature 'Genre_Platform' (0.004150)\n",
      "37. feature 'Platform_PSP' (0.004119)\n",
      "38. feature 'Year_of_Release_2001' (0.003627)\n",
      "39. feature 'Year_of_Release_2014' (0.003398)\n",
      "40. feature 'Year_of_Release_2015' (0.003235)\n",
      "41. feature 'Genre_Simulation' (0.003217)\n",
      "42. feature 'Year_of_Release_2012' (0.003034)\n",
      "43. feature 'Platform_GC' (0.003013)\n",
      "44. feature 'Year_of_Release_2013' (0.002936)\n",
      "45. feature 'Year_of_Release_2005' (0.002929)\n",
      "46. feature 'Platform_XOne' (0.002651)\n",
      "47. feature 'Genre_Fighting' (0.002466)\n",
      "48. feature 'Platform_PS' (0.002448)\n",
      "49. feature 'Year_of_Release_2000' (0.002384)\n",
      "50. feature 'Year_of_Release_2016' (0.002162)\n",
      "51. feature 'Platform_XB' (0.001946)\n",
      "52. feature 'Genre_Puzzle' (0.001926)\n",
      "53. feature 'Genre_Strategy' (0.001627)\n",
      "54. feature 'Platform_GBA' (0.001226)\n",
      "55. feature 'Platform_3DS' (0.001137)\n",
      "56. feature 'Year_of_Release_1998' (0.001134)\n",
      "57. feature 'Platform_WiiU' (0.000822)\n",
      "58. feature 'Year_of_Release_1996' (0.000638)\n",
      "59. feature 'Year_of_Release_1997' (0.000635)\n",
      "60. feature 'Genre_Adventure' (0.000613)\n",
      "61. feature 'Year_of_Release_1999' (0.000241)\n",
      "62. feature 'Platform_PSV' (0.000223)\n",
      "63. feature 'Rating_K-A' (0.000156)\n",
      "64. feature 'Platform_DC' (0.000077)\n",
      "65. feature 'Rating_AO' (0.000020)\n",
      "66. feature 'Year_of_Release_1985' (0.000000)\n",
      "67. feature 'Rating_RP' (0.000000)\n",
      "68. feature 'Year_of_Release_1988' (0.000000)\n",
      "69. feature 'Year_of_Release_1992' (0.000000)\n",
      "70. feature 'Year_of_Release_1994' (0.000000)\n"
     ]
    }
   ],
   "source": [
    "importances = rf.feature_importances_\n",
    "indices = np.argsort(importances)[::-1]\n",
    "\n",
    "print(\"Feature ranking:\")\n",
    "\n",
    "for f in range(d):\n",
    "    print(\"%2d. feature '%5s' (%f)\" % (f + 1, feature_names[indices[f]], importances[indices[f]]))   "
   ]
  },
  {
   "cell_type": "code",
   "execution_count": 248,
   "metadata": {},
   "outputs": [
    {
     "data": {
      "text/plain": [
       "Index(['JP_Sales', 'NA_Sales', 'JP_Sales'], dtype='object')"
      ]
     },
     "execution_count": 248,
     "metadata": {},
     "output_type": "execute_result"
    }
   ],
   "source": [
    "feature_names[[1,0,1]]"
   ]
  },
  {
   "cell_type": "code",
   "execution_count": 249,
   "metadata": {},
   "outputs": [
    {
     "data": {
      "text/plain": [
       "(-1, 20)"
      ]
     },
     "execution_count": 249,
     "metadata": {},
     "output_type": "execute_result"
    },
    {
     "data": {
      "image/png": "[encoded data removed]",
      "text/plain": [
       "<Figure size 432x288 with 1 Axes>"
      ]
     },
     "metadata": {
      "needs_background": "light"
     },
     "output_type": "display_data"
    }
   ],
   "source": [
    "d_first = 20\n",
    "plt.title(\"Feature importances\")\n",
    "plt.bar(range(d_first), importances[indices[:d_first]], align = 'center', color = 'r')\n",
    "plt.xticks(range(d_first), feature_names[indices[:d_first]], rotation = 90)\n",
    "plt.xlim([-1, d_first])"
   ]
  },
  {
   "cell_type": "markdown",
   "metadata": {},
   "source": [
    "Сильно выделяется признак NA_Sales, так как имеет самый высокий показатель."
   ]
  },
  {
   "cell_type": "markdown",
   "metadata": {},
   "source": [
    "Удалим все признаки с малым значение feature importance:"
   ]
  },
  {
   "cell_type": "code",
   "execution_count": 250,
   "metadata": {},
   "outputs": [],
   "source": [
    "for f in range(d):\n",
    "    if importances[indices[f]] < 0.005:\n",
    "        X_train = X_train.drop(feature_names[indices[f]],   axis = 1)\n",
    "        X_test = X_test.drop(feature_names[indices[f]],   axis = 1)\n"
   ]
  },
  {
   "cell_type": "markdown",
   "metadata": {},
   "source": [
    "Проверим, как изменлись ошибки на обучающей и тестовой выборках."
   ]
  },
  {
   "cell_type": "code",
   "execution_count": 251,
   "metadata": {},
   "outputs": [
    {
     "name": "stdout",
     "output_type": "stream",
     "text": [
      "0.0 0.03662109375\n"
     ]
    }
   ],
   "source": [
    "from sklearn import ensemble\n",
    "rf = ensemble.RandomForestClassifier(n_estimators = 1000)\n",
    "rf.fit(X_train, y_train)\n",
    "\n",
    "err_train = np.mean(y_train != rf.predict(X_train))\n",
    "err_test  = np.mean(y_test  != rf.predict(X_test))\n",
    "\n",
    "print(err_train, err_test)"
   ]
  },
  {
   "cell_type": "markdown",
   "metadata": {},
   "source": [
    "# Extremely Randomized Trees"
   ]
  },
  {
   "cell_type": "markdown",
   "metadata": {},
   "source": [
    "Построим классификатор Extremely Randomized Trees. Выведем ошибки на тестовой и обучающей выборках."
   ]
  },
  {
   "cell_type": "code",
   "execution_count": 88,
   "metadata": {},
   "outputs": [
    {
     "name": "stdout",
     "output_type": "stream",
     "text": [
      "0.0 0.037109375\n"
     ]
    }
   ],
   "source": [
    "ert = ensemble.ExtraTreesClassifier(n_estimators = 100).fit(X_train, y_train)\n",
    "\n",
    "err_train = np.mean(y_train != ert.predict(X_train))\n",
    "err_test  = np.mean(y_test  != ert.predict(X_test))\n",
    "\n",
    "print(err_train, err_test)"
   ]
  },
  {
   "cell_type": "markdown",
   "metadata": {},
   "source": [
    "Немного хуже классификатора Random Forest на тестовой выборке."
   ]
  },
  {
   "cell_type": "markdown",
   "metadata": {},
   "source": [
    "# AdaBoost"
   ]
  },
  {
   "cell_type": "markdown",
   "metadata": {},
   "source": [
    "Тренируем классификатор с помощью алгоритма Adaptive Boosting, выводим ошибки на тестовой и обучающей выборках."
   ]
  },
  {
   "cell_type": "code",
   "execution_count": 89,
   "metadata": {},
   "outputs": [
    {
     "name": "stdout",
     "output_type": "stream",
     "text": [
      "0.01297614064462118 0.04248046875\n"
     ]
    }
   ],
   "source": [
    "ada = ensemble.AdaBoostClassifier(n_estimators = 1000)\n",
    "ada.fit(X_train, y_train)\n",
    "\n",
    "err_train = np.mean(y_train != ada.predict(X_train))\n",
    "err_test = np.mean(y_test != ada.predict(X_test))\n",
    "\n",
    "print(err_train, err_test)"
   ]
  },
  {
   "cell_type": "markdown",
   "metadata": {},
   "source": [
    "# GBT"
   ]
  },
  {
   "cell_type": "markdown",
   "metadata": {},
   "source": [
    "Тренируем классификатор с помощью алгоритма Gradient Boosting, выводим ошибки на тестовой и обучающей выборках."
   ]
  },
  {
   "cell_type": "code",
   "execution_count": 90,
   "metadata": {},
   "outputs": [
    {
     "name": "stdout",
     "output_type": "stream",
     "text": [
      "0.026580159062369192 0.04052734375\n"
     ]
    }
   ],
   "source": [
    "gbt = ensemble.GradientBoostingClassifier(n_estimators = 10)\n",
    "gbt.fit(X_train, y_train)\n",
    "\n",
    "err_train = np.mean(y_train != gbt.predict(X_train))\n",
    "err_test = np.mean(y_test != gbt.predict(X_test))\n",
    "\n",
    "print(err_train, err_test)"
   ]
  },
  {
   "cell_type": "markdown",
   "metadata": {},
   "source": [
    "# Вывод\n",
    "Лучше всех на обучающей и тестовой выборках работает классификатор Random Forest."
   ]
  },
  {
   "cell_type": "markdown",
   "metadata": {},
   "source": [
    "# Лабораторная работа №2. Обучение нейронной сети"
   ]
  },
  {
   "cell_type": "markdown",
   "metadata": {},
   "source": [
    "### Обучаем классификатор"
   ]
  },
  {
   "cell_type": "code",
   "execution_count": 91,
   "metadata": {},
   "outputs": [],
   "source": [
    "from sklearn.neural_network import MLPClassifier"
   ]
  },
  {
   "cell_type": "markdown",
   "metadata": {},
   "source": [
    "Возьмём 1 скрытый слой со 100 скрытыми единицами:"
   ]
  },
  {
   "cell_type": "code",
   "execution_count": 92,
   "metadata": {},
   "outputs": [
    {
     "data": {
      "text/plain": [
       "MLPClassifier(activation='logistic', alpha=0.0001, batch_size='auto',\n",
       "       beta_1=0.9, beta_2=0.999, early_stopping=False, epsilon=1e-08,\n",
       "       hidden_layer_sizes=(100,), learning_rate='constant',\n",
       "       learning_rate_init=0.001, max_iter=200, momentum=0.9,\n",
       "       n_iter_no_change=10, nesterovs_momentum=True, power_t=0.5,\n",
       "       random_state=42, shuffle=True, solver='lbfgs', tol=0.0001,\n",
       "       validation_fraction=0.1, verbose=False, warm_start=False)"
      ]
     },
     "execution_count": 92,
     "metadata": {},
     "output_type": "execute_result"
    }
   ],
   "source": [
    "mlp_model = MLPClassifier(hidden_layer_sizes = (100,), solver = 'lbfgs', \n",
    "                          activation = 'logistic', random_state = 42)\n",
    "mlp_model.fit(X_train, y_train)"
   ]
  },
  {
   "cell_type": "markdown",
   "metadata": {},
   "source": [
    "### Проверяем качество классификатора "
   ]
  },
  {
   "cell_type": "code",
   "execution_count": 93,
   "metadata": {},
   "outputs": [],
   "source": [
    "y_train_pred = mlp_model.predict(X_train)\n",
    "y_test_pred = mlp_model.predict(X_test)"
   ]
  },
  {
   "cell_type": "markdown",
   "metadata": {},
   "source": [
    "Ошибки на обучающей и тестовой выборках:"
   ]
  },
  {
   "cell_type": "code",
   "execution_count": 94,
   "metadata": {},
   "outputs": [
    {
     "name": "stdout",
     "output_type": "stream",
     "text": [
      "0.0 0.041015625\n"
     ]
    }
   ],
   "source": [
    "print(np.mean(y_train != y_train_pred), np.mean(y_test != y_test_pred))"
   ]
  },
  {
   "cell_type": "markdown",
   "metadata": {},
   "source": [
    "###  Подбор гиперпараметров"
   ]
  },
  {
   "cell_type": "markdown",
   "metadata": {},
   "source": [
    "Подберем оптимальное значение количества нейронов"
   ]
  },
  {
   "cell_type": "code",
   "execution_count": 95,
   "metadata": {},
   "outputs": [],
   "source": [
    "neurons_arr = np.arange(10,200,10)\n",
    "test_err = []\n",
    "train_err = []\n",
    "for neurons in neurons_arr:\n",
    "    mlp_model = MLPClassifier(hidden_layer_sizes = (neurons,), \n",
    "                              solver = 'lbfgs', activation = 'logistic', random_state = 42)\n",
    "    mlp_model.fit(X_train, y_train)\n",
    "\n",
    "    y_train_pred = mlp_model.predict(X_train)\n",
    "    y_test_pred = mlp_model.predict(X_test)\n",
    "    train_err.append(np.mean(y_train != y_train_pred))\n",
    "    test_err.append(np.mean(y_test != y_test_pred))"
   ]
  },
  {
   "cell_type": "code",
   "execution_count": 96,
   "metadata": {},
   "outputs": [
    {
     "data": {
      "image/png": "[encoded data removed]",
      "text/plain": [
       "<Figure size 432x288 with 1 Axes>"
      ]
     },
     "metadata": {
      "needs_background": "light"
     },
     "output_type": "display_data"
    }
   ],
   "source": [
    "plt.semilogx(neurons_arr, train_err, 'b-o', label = 'train')\n",
    "plt.semilogx(neurons_arr, test_err, 'r-o', label = 'test')\n",
    "plt.title('Error vs. neurons')\n",
    "plt.xlabel('neurons')\n",
    "plt.ylabel('error')\n",
    "plt.legend()\n",
    "pass"
   ]
  },
  {
   "cell_type": "markdown",
   "metadata": {},
   "source": [
    "Минимальное значение ошибки:"
   ]
  },
  {
   "cell_type": "code",
   "execution_count": 97,
   "metadata": {},
   "outputs": [
    {
     "name": "stdout",
     "output_type": "stream",
     "text": [
      "0.0 0.03955078125\n"
     ]
    }
   ],
   "source": [
    "min_train_err = np.min(train_err)\n",
    "min_test_err = np.min(test_err)\n",
    "print(min_train_err, min_test_err)"
   ]
  },
  {
   "cell_type": "markdown",
   "metadata": {},
   "source": [
    "Оптимальное значение количества нейронов:"
   ]
  },
  {
   "cell_type": "code",
   "execution_count": 98,
   "metadata": {},
   "outputs": [
    {
     "name": "stdout",
     "output_type": "stream",
     "text": [
      "[190]\n"
     ]
    }
   ],
   "source": [
    "neurons_opt = neurons_arr[test_err == min_test_err]\n",
    "print(neurons_opt)"
   ]
  },
  {
   "cell_type": "code",
   "execution_count": 99,
   "metadata": {},
   "outputs": [
    {
     "name": "stdout",
     "output_type": "stream",
     "text": [
      "190\n"
     ]
    }
   ],
   "source": [
    "neurons_opt = neurons_opt[0]\n",
    "print(neurons_opt)"
   ]
  },
  {
   "cell_type": "markdown",
   "metadata": {},
   "source": [
    "Подберем оптимальное значение параметра регуляризации alpha"
   ]
  },
  {
   "cell_type": "code",
   "execution_count": 100,
   "metadata": {},
   "outputs": [],
   "source": [
    "alpha_arr = np.logspace(-3, 2, 20)\n",
    "test_err = []\n",
    "train_err = []\n",
    "for alpha in alpha_arr:\n",
    "    mlp_model = MLPClassifier(alpha = alpha, hidden_layer_sizes = (neurons_opt,), \n",
    "                              solver = 'lbfgs', activation = 'logistic', random_state = 42)\n",
    "    mlp_model.fit(X_train, y_train)\n",
    "\n",
    "    y_train_pred = mlp_model.predict(X_train)\n",
    "    y_test_pred = mlp_model.predict(X_test)\n",
    "    train_err.append(np.mean(y_train != y_train_pred))\n",
    "    test_err.append(np.mean(y_test != y_test_pred))"
   ]
  },
  {
   "cell_type": "code",
   "execution_count": 101,
   "metadata": {},
   "outputs": [
    {
     "data": {
      "image/png": "[encoded data removed]",
      "text/plain": [
       "<Figure size 432x288 with 1 Axes>"
      ]
     },
     "metadata": {
      "needs_background": "light"
     },
     "output_type": "display_data"
    }
   ],
   "source": [
    "plt.semilogx(alpha_arr, train_err, 'b-o', label = 'train')\n",
    "plt.semilogx(alpha_arr, test_err, 'r-o', label = 'test')\n",
    "plt.title('Error vs. alpha')\n",
    "plt.xlabel('alpha')\n",
    "plt.ylabel('error')\n",
    "plt.legend()\n",
    "pass"
   ]
  },
  {
   "cell_type": "markdown",
   "metadata": {},
   "source": [
    "Минимальное значение ошибки:"
   ]
  },
  {
   "cell_type": "code",
   "execution_count": 102,
   "metadata": {},
   "outputs": [
    {
     "name": "stdout",
     "output_type": "stream",
     "text": [
      "0.0 0.03564453125\n"
     ]
    }
   ],
   "source": [
    "min_train_err = np.min(train_err)\n",
    "min_test_err = np.min(test_err)\n",
    "print(min_train_err, min_test_err)"
   ]
  },
  {
   "cell_type": "markdown",
   "metadata": {},
   "source": [
    "Оптимальное значение alpha:"
   ]
  },
  {
   "cell_type": "code",
   "execution_count": 103,
   "metadata": {},
   "outputs": [
    {
     "name": "stdout",
     "output_type": "stream",
     "text": [
      "[0.23357215]\n"
     ]
    }
   ],
   "source": [
    "alpha_opt = alpha_arr[test_err == min_test_err]\n",
    "print(alpha_opt)"
   ]
  },
  {
   "cell_type": "code",
   "execution_count": 104,
   "metadata": {},
   "outputs": [
    {
     "name": "stdout",
     "output_type": "stream",
     "text": [
      "0.23357214690901212\n"
     ]
    }
   ],
   "source": [
    "alpha_opt = alpha_opt[0]\n",
    "print(alpha_opt)"
   ]
  },
  {
   "cell_type": "markdown",
   "metadata": {},
   "source": [
    "Подберём оптимальные значения alpha и количества нейронов"
   ]
  },
  {
   "cell_type": "code",
   "execution_count": 105,
   "metadata": {},
   "outputs": [],
   "source": [
    "alpha_arr = np.logspace(-3, 2, 20)\n",
    "neurons_arr = np.arange(10,200,10)\n",
    "test_err = []\n",
    "train_err = []\n",
    "for neurons in neurons_arr:\n",
    "    for alpha in alpha_arr:\n",
    "        mlp_model = MLPClassifier(alpha = alpha, hidden_layer_sizes = (neurons,), \n",
    "                              solver = 'lbfgs', activation = 'logistic', random_state = 42)\n",
    "        mlp_model.fit(X_train, y_train)\n",
    "\n",
    "        y_train_pred = mlp_model.predict(X_train)\n",
    "        y_test_pred = mlp_model.predict(X_test)\n",
    "        train_err.append(np.mean(y_train != y_train_pred))\n",
    "        test_err.append(np.mean(y_test != y_test_pred))"
   ]
  },
  {
   "cell_type": "markdown",
   "metadata": {},
   "source": [
    "Минимальное значение ошибки:"
   ]
  },
  {
   "cell_type": "code",
   "execution_count": 106,
   "metadata": {},
   "outputs": [
    {
     "name": "stdout",
     "output_type": "stream",
     "text": [
      "0.0 0.03369140625\n"
     ]
    }
   ],
   "source": [
    "min_train_err = np.min(train_err)\n",
    "min_test_err = np.min(test_err)\n",
    "print(min_train_err, min_test_err)"
   ]
  },
  {
   "cell_type": "markdown",
   "metadata": {},
   "source": [
    "Оптимальное значение alpha:"
   ]
  },
  {
   "cell_type": "code",
   "execution_count": 107,
   "metadata": {},
   "outputs": [
    {
     "name": "stdout",
     "output_type": "stream",
     "text": [
      "0.12742749857031335\n"
     ]
    }
   ],
   "source": [
    "alpha_opt = alpha_arr[(test_err.index(min_test_err))%alpha_arr.size]\n",
    "print(alpha_opt)"
   ]
  },
  {
   "cell_type": "markdown",
   "metadata": {},
   "source": [
    "Оптимальное значение количества нейронов:"
   ]
  },
  {
   "cell_type": "code",
   "execution_count": 108,
   "metadata": {},
   "outputs": [
    {
     "name": "stdout",
     "output_type": "stream",
     "text": [
      "160\n"
     ]
    }
   ],
   "source": [
    "neurons_opt = neurons_arr[(test_err.index(min_test_err))//neurons_arr.size]\n",
    "print(neurons_opt)"
   ]
  },
  {
   "cell_type": "markdown",
   "metadata": {},
   "source": [
    "### Классификатор при найденных оптимальных значениях alpha и количества нейронов: "
   ]
  },
  {
   "cell_type": "markdown",
   "metadata": {},
   "source": [
    "Повторим обучение и определим ошибки на обучающей и тестовой выборках:"
   ]
  },
  {
   "cell_type": "code",
   "execution_count": 110,
   "metadata": {},
   "outputs": [
    {
     "name": "stdout",
     "output_type": "stream",
     "text": [
      "0.0006278777731268313\n",
      "0.0380859375\n"
     ]
    }
   ],
   "source": [
    "mlp_model = MLPClassifier(alpha = alpha_opt, hidden_layer_sizes = (neurons_opt,),\n",
    "                          solver = 'lbfgs', activation = 'logistic', random_state = 42)\n",
    "mlp_model.fit(X_train, y_train)\n",
    "\n",
    "y_train_pred = mlp_model.predict(X_train)\n",
    "y_test_pred = mlp_model.predict(X_test)\n",
    "print(np.mean(y_train != y_train_pred))\n",
    "print(np.mean(y_test != y_test_pred))"
   ]
  },
  {
   "cell_type": "markdown",
   "metadata": {},
   "source": [
    "### Матрица рассогласования:"
   ]
  },
  {
   "cell_type": "code",
   "execution_count": 112,
   "metadata": {},
   "outputs": [
    {
     "data": {
      "image/png": "[encoded data removed]",
      "text/plain": [
       "<Figure size 432x288 with 2 Axes>"
      ]
     },
     "metadata": {
      "needs_background": "light"
     },
     "output_type": "display_data"
    }
   ],
   "source": [
    "from sklearn.metrics import confusion_matrix\n",
    "M = confusion_matrix(y_test_pred, y_test)\n",
    "M = np.sqrt(M)\n",
    "plt.imshow(M, interpolation = 'nearest')\n",
    "plt.set_cmap('binary')\n",
    "plt.xticks(range(2))\n",
    "plt.yticks(range(2))\n",
    "plt.xlabel(\"true label\")\n",
    "plt.ylabel(\"predicted label\")\n",
    "plt.colorbar()\n",
    "pass"
   ]
  },
  {
   "cell_type": "code",
   "execution_count": 113,
   "metadata": {},
   "outputs": [
    {
     "name": "stdout",
     "output_type": "stream",
     "text": [
      "[[1903   22]\n",
      " [  56   67]]\n"
     ]
    }
   ],
   "source": [
    "print(confusion_matrix(y_test, y_test_pred))"
   ]
  },
  {
   "cell_type": "markdown",
   "metadata": {},
   "source": [
    "### Другие метрики качества:"
   ]
  },
  {
   "cell_type": "code",
   "execution_count": 114,
   "metadata": {},
   "outputs": [
    {
     "name": "stdout",
     "output_type": "stream",
     "text": [
      "              precision    recall  f1-score   support\n",
      "\n",
      "           0       0.97      0.99      0.98      1925\n",
      "           1       0.75      0.54      0.63       123\n",
      "\n",
      "   micro avg       0.96      0.96      0.96      2048\n",
      "   macro avg       0.86      0.77      0.81      2048\n",
      "weighted avg       0.96      0.96      0.96      2048\n",
      "\n"
     ]
    }
   ],
   "source": [
    "from sklearn.metrics import classification_report\n",
    "print(classification_report(y_test, y_test_pred))"
   ]
  },
  {
   "cell_type": "markdown",
   "metadata": {},
   "source": [
    "### Нейронная сеть с 2 скрытыми слоями"
   ]
  },
  {
   "cell_type": "markdown",
   "metadata": {},
   "source": [
    "Подберём для нейронной сети с двумя срытыми слоями оптимальное количество нейронов на скрытых слоях"
   ]
  },
  {
   "cell_type": "code",
   "execution_count": 115,
   "metadata": {},
   "outputs": [],
   "source": [
    "hid_arr = [(x, y) for x in range(10, 100, 10) for y in range(10, 100, 10)]\n",
    "test_err = []\n",
    "train_err = []\n",
    "for h in hid_arr:\n",
    "    mlp_model = MLPClassifier(hidden_layer_sizes = h, alpha = alpha_opt,\n",
    "                              solver = 'lbfgs', activation = 'logistic', random_state = 42)\n",
    "    mlp_model.fit(X_train, y_train)\n",
    "\n",
    "    y_train_pred = mlp_model.predict(X_train)\n",
    "    y_test_pred = mlp_model.predict(X_test)\n",
    "    train_err.append(np.mean(y_train != y_train_pred))\n",
    "    test_err.append(np.mean(y_test != y_test_pred))"
   ]
  },
  {
   "cell_type": "markdown",
   "metadata": {},
   "source": [
    "Минимальное значение ошибки:"
   ]
  },
  {
   "cell_type": "code",
   "execution_count": 116,
   "metadata": {},
   "outputs": [
    {
     "name": "stdout",
     "output_type": "stream",
     "text": [
      "0.0 0.03466796875\n"
     ]
    }
   ],
   "source": [
    "min_train_err = np.min(train_err)\n",
    "min_test_err = np.min(test_err)\n",
    "print(min_train_err, min_test_err)"
   ]
  },
  {
   "cell_type": "markdown",
   "metadata": {},
   "source": [
    "Оптимальное количество нейронов:"
   ]
  },
  {
   "cell_type": "code",
   "execution_count": 117,
   "metadata": {},
   "outputs": [
    {
     "data": {
      "text/plain": [
       "[(50, 40), (60, 50)]"
      ]
     },
     "execution_count": 117,
     "metadata": {},
     "output_type": "execute_result"
    }
   ],
   "source": [
    "neur_opt = [hid_arr[i] for i in range(0, len(hid_arr)) if test_err[i] == min_test_err]\n",
    "neur_opt"
   ]
  },
  {
   "cell_type": "code",
   "execution_count": 118,
   "metadata": {},
   "outputs": [
    {
     "data": {
      "text/plain": [
       "(50, 40)"
      ]
     },
     "execution_count": 118,
     "metadata": {},
     "output_type": "execute_result"
    }
   ],
   "source": [
    "n_opt = neur_opt[0]\n",
    "n_opt"
   ]
  },
  {
   "cell_type": "markdown",
   "metadata": {},
   "source": [
    "Подберём оптимальное значение параметра alpha:"
   ]
  },
  {
   "cell_type": "code",
   "execution_count": 119,
   "metadata": {},
   "outputs": [],
   "source": [
    "alpha_arr = np.logspace(-3, 2, 20)\n",
    "test_err = []\n",
    "train_err = []\n",
    "for alpha in alpha_arr:\n",
    "    mlp_model = MLPClassifier(hidden_layer_sizes = n_opt, alpha = alpha,\n",
    "                              solver = 'lbfgs', activation = 'logistic', random_state = 42)\n",
    "    mlp_model.fit(X_train, y_train)\n",
    "\n",
    "    y_train_pred = mlp_model.predict(X_train)\n",
    "    y_test_pred = mlp_model.predict(X_test)\n",
    "    train_err.append(np.mean(y_train != y_train_pred))\n",
    "    test_err.append(np.mean(y_test != y_test_pred))"
   ]
  },
  {
   "cell_type": "markdown",
   "metadata": {},
   "source": [
    "Минимальное значение ошибки:"
   ]
  },
  {
   "cell_type": "code",
   "execution_count": 120,
   "metadata": {},
   "outputs": [
    {
     "name": "stdout",
     "output_type": "stream",
     "text": [
      "0.0 0.03466796875\n"
     ]
    }
   ],
   "source": [
    "min_train_err = np.min(train_err)\n",
    "min_test_err = np.min(test_err)\n",
    "print(min_train_err, min_test_err)"
   ]
  },
  {
   "cell_type": "markdown",
   "metadata": {},
   "source": [
    "Оптимальное значение параметра alpha:"
   ]
  },
  {
   "cell_type": "code",
   "execution_count": 121,
   "metadata": {},
   "outputs": [
    {
     "name": "stdout",
     "output_type": "stream",
     "text": [
      "[0.1274275]\n"
     ]
    }
   ],
   "source": [
    "alpha_opt_new = alpha_arr[test_err == min_test_err]\n",
    "print(alpha_opt_new)"
   ]
  },
  {
   "cell_type": "markdown",
   "metadata": {},
   "source": [
    "## Выводы: "
   ]
  },
  {
   "cell_type": "markdown",
   "metadata": {},
   "source": [
    "С помощью MLP удалось снизить ошибку c 0.03662109375 до 0.03369140625 на тестовой выборке. Это удалось при значениях alpha=0.12742749857031335 и количестве нейронов 160. Нейронная сеть снова показала высокую ошибку 2-го рода. Тем не менее, данный показатель при нейронной сети оказался лучше (в 2 раза меньше), чем при классификаторах, использовавшихся ранее. При уменьшении параметра alpha ошибки на тестовой и обучающей выборках уменьшаются. Ошибка уменьшается при увеличении количества нейронов в скрытом слое. На графике это заметно, но не значительно. Это может быть из-за того, что было взято небольшое количество нейронов (от 10 до 200 с шагом 10) и из-за несбалансированности датасета."
   ]
  },
  {
   "cell_type": "markdown",
   "metadata": {},
   "source": [
    "# Лабораторная работа №3. "
   ]
  },
  {
   "cell_type": "markdown",
   "metadata": {},
   "source": [
    "## Random Forests "
   ]
  },
  {
   "cell_type": "markdown",
   "metadata": {},
   "source": [
    "Подберём оптимальное количество деревьев для Random Forests."
   ]
  },
  {
   "cell_type": "code",
   "execution_count": 122,
   "metadata": {},
   "outputs": [],
   "source": [
    "from sklearn import ensemble\n"
   ]
  },
  {
   "cell_type": "code",
   "execution_count": 123,
   "metadata": {},
   "outputs": [
    {
     "name": "stderr",
     "output_type": "stream",
     "text": [
      "C:\\Users\\user\\Anaconda3\\lib\\site-packages\\sklearn\\ensemble\\forest.py:458: UserWarning: Some inputs do not have OOB scores. This probably means too few trees were used to compute any reliable oob estimates.\n",
      "  warn(\"Some inputs do not have OOB scores. \"\n",
      "C:\\Users\\user\\Anaconda3\\lib\\site-packages\\sklearn\\ensemble\\forest.py:463: RuntimeWarning: invalid value encountered in true_divide\n",
      "  predictions[k].sum(axis=1)[:, np.newaxis])\n",
      "C:\\Users\\user\\Anaconda3\\lib\\site-packages\\sklearn\\ensemble\\forest.py:458: UserWarning: Some inputs do not have OOB scores. This probably means too few trees were used to compute any reliable oob estimates.\n",
      "  warn(\"Some inputs do not have OOB scores. \"\n",
      "C:\\Users\\user\\Anaconda3\\lib\\site-packages\\sklearn\\ensemble\\forest.py:463: RuntimeWarning: invalid value encountered in true_divide\n",
      "  predictions[k].sum(axis=1)[:, np.newaxis])\n"
     ]
    }
   ],
   "source": [
    "trees_arr = np.arange(10,200,10)\n",
    "test_err = []\n",
    "train_err = []\n",
    "oob_err = []\n",
    "for trees in trees_arr:\n",
    "    rf = ensemble.RandomForestClassifier(n_estimators = trees, oob_score = True)\n",
    "    rf.fit(X_train, y_train)\n",
    "\n",
    "    y_train_pred = rf.predict(X_train)\n",
    "    y_test_pred = rf.predict(X_test)\n",
    "    oob_error = 1 - rf.oob_score_\n",
    "    train_err.append(np.mean(y_train != y_train_pred))\n",
    "    test_err.append(np.mean(y_test != y_test_pred))\n",
    "    oob_err.append(oob_error)"
   ]
  },
  {
   "cell_type": "markdown",
   "metadata": {},
   "source": [
    "Построим график зависимости ошибки на обучающей и тестовой выборке и oob-ошибки от количества используемых деревьев."
   ]
  },
  {
   "cell_type": "code",
   "execution_count": 124,
   "metadata": {},
   "outputs": [
    {
     "data": {
      "image/png": "[encoded data removed]",
      "text/plain": [
       "<Figure size 432x288 with 1 Axes>"
      ]
     },
     "metadata": {
      "needs_background": "light"
     },
     "output_type": "display_data"
    }
   ],
   "source": [
    "plt.plot(trees_arr, train_err, 'b-o', label = 'train')\n",
    "plt.plot(trees_arr, test_err, 'r-o', label = 'test')\n",
    "#plt.plot(trees_arr, oob_err, 'g-o', label = 'oob err')\n",
    "plt.title('Error vs. trees')\n",
    "plt.xlabel('trees')\n",
    "plt.ylabel('error')\n",
    "plt.legend()\n",
    "pass"
   ]
  },
  {
   "cell_type": "code",
   "execution_count": 125,
   "metadata": {},
   "outputs": [
    {
     "data": {
      "image/png": "[encoded data removed]",
      "text/plain": [
       "<Figure size 432x288 with 1 Axes>"
      ]
     },
     "metadata": {
      "needs_background": "light"
     },
     "output_type": "display_data"
    }
   ],
   "source": [
    "plt.plot(trees_arr, oob_err, 'g-o', label = 'oob err')\n",
    "plt.title('Error vs. trees')\n",
    "plt.xlabel('trees')\n",
    "plt.ylabel('error')\n",
    "plt.legend()\n",
    "pass"
   ]
  },
  {
   "cell_type": "markdown",
   "metadata": {},
   "source": [
    "Минимальное значение ошибки"
   ]
  },
  {
   "cell_type": "code",
   "execution_count": 126,
   "metadata": {},
   "outputs": [
    {
     "name": "stdout",
     "output_type": "stream",
     "text": [
      "0.0 0.033203125 0.025324403516115535\n"
     ]
    }
   ],
   "source": [
    "min_train_err = np.min(train_err)\n",
    "min_test_err = np.min(test_err)\n",
    "min_oob_err = np.min(oob_err)\n",
    "print(min_train_err, min_test_err, min_oob_err)"
   ]
  },
  {
   "cell_type": "markdown",
   "metadata": {},
   "source": [
    "Оптимальное значение количества деревьев"
   ]
  },
  {
   "cell_type": "code",
   "execution_count": 127,
   "metadata": {},
   "outputs": [
    {
     "name": "stdout",
     "output_type": "stream",
     "text": [
      "[40]\n"
     ]
    }
   ],
   "source": [
    "trees_opt = trees_arr[test_err == min_test_err]\n",
    "print(trees_opt)"
   ]
  },
  {
   "cell_type": "markdown",
   "metadata": {},
   "source": [
    "##  Extremely Randomized Trees"
   ]
  },
  {
   "cell_type": "markdown",
   "metadata": {},
   "source": [
    "Подберём оптимальное количество деревьев для Extremely Randomized Trees."
   ]
  },
  {
   "cell_type": "code",
   "execution_count": 128,
   "metadata": {},
   "outputs": [
    {
     "name": "stderr",
     "output_type": "stream",
     "text": [
      "C:\\Users\\user\\Anaconda3\\lib\\site-packages\\sklearn\\ensemble\\forest.py:458: UserWarning: Some inputs do not have OOB scores. This probably means too few trees were used to compute any reliable oob estimates.\n",
      "  warn(\"Some inputs do not have OOB scores. \"\n",
      "C:\\Users\\user\\Anaconda3\\lib\\site-packages\\sklearn\\ensemble\\forest.py:463: RuntimeWarning: invalid value encountered in true_divide\n",
      "  predictions[k].sum(axis=1)[:, np.newaxis])\n"
     ]
    }
   ],
   "source": [
    "trees_arr = np.arange(10,200,10)\n",
    "test_err = []\n",
    "train_err = []\n",
    "oob_err = []\n",
    "for trees in trees_arr:\n",
    "    ert = ensemble.ExtraTreesClassifier(n_estimators = trees, bootstrap=True, oob_score = True, random_state = 21)\n",
    "    ert.fit(X_train, y_train)\n",
    "\n",
    "    y_train_pred = ert.predict(X_train)\n",
    "    y_test_pred =ert.predict(X_test)\n",
    "    oob_error = 1 - ert.oob_score_\n",
    "    train_err.append(np.mean(y_train != y_train_pred))\n",
    "    test_err.append(np.mean(y_test != y_test_pred))\n",
    "    oob_err.append(oob_error)"
   ]
  },
  {
   "cell_type": "markdown",
   "metadata": {},
   "source": [
    "Построим график зависимости ошибки на обучающей и тестовой выборке и oob-ошибки от количества используемых деревьев."
   ]
  },
  {
   "cell_type": "code",
   "execution_count": 129,
   "metadata": {},
   "outputs": [
    {
     "data": {
      "image/png": "[encoded data removed]",
      "text/plain": [
       "<Figure size 432x288 with 1 Axes>"
      ]
     },
     "metadata": {
      "needs_background": "light"
     },
     "output_type": "display_data"
    }
   ],
   "source": [
    "plt.plot(trees_arr, train_err, 'b-o', label = 'train')\n",
    "plt.plot(trees_arr, test_err, 'r-o', label = 'test')\n",
    "plt.plot(trees_arr, oob_err, 'g-o', label = 'oob err')\n",
    "plt.title('Error vs. trees')\n",
    "plt.xlabel('trees')\n",
    "plt.ylabel('error')\n",
    "plt.legend()\n",
    "pass"
   ]
  },
  {
   "cell_type": "markdown",
   "metadata": {},
   "source": [
    "Минимальное значение ошибки"
   ]
  },
  {
   "cell_type": "code",
   "execution_count": 130,
   "metadata": {},
   "outputs": [
    {
     "name": "stdout",
     "output_type": "stream",
     "text": [
      "0.0 0.037109375 0.028463792381749675\n"
     ]
    }
   ],
   "source": [
    "min_train_err = np.min(train_err)\n",
    "min_test_err = np.min(test_err)\n",
    "min_oob_err = np.min(oob_err)\n",
    "print(min_train_err, min_test_err, min_oob_err)"
   ]
  },
  {
   "cell_type": "markdown",
   "metadata": {},
   "source": [
    "Оптимальное значение количества деревьев"
   ]
  },
  {
   "cell_type": "code",
   "execution_count": 131,
   "metadata": {},
   "outputs": [
    {
     "name": "stdout",
     "output_type": "stream",
     "text": [
      "[ 90 130]\n"
     ]
    }
   ],
   "source": [
    "trees_opt = trees_arr[test_err == min_test_err]\n",
    "print(trees_opt)"
   ]
  },
  {
   "cell_type": "markdown",
   "metadata": {},
   "source": [
    "##  AdaBoost"
   ]
  },
  {
   "cell_type": "markdown",
   "metadata": {},
   "source": [
    "Подберём оптимальное количество деревьев для AdaBoost."
   ]
  },
  {
   "cell_type": "code",
   "execution_count": 134,
   "metadata": {},
   "outputs": [],
   "source": [
    "trees_arr = np.arange(10,200,10)\n",
    "test_err = []\n",
    "train_err = []\n",
    "for trees in trees_arr:\n",
    "    ab = ensemble.AdaBoostClassifier(n_estimators = trees)\n",
    "    ab.fit(X_train, y_train)\n",
    "\n",
    "    y_train_pred = ab.predict(X_train)\n",
    "    y_test_pred =ab.predict(X_test)\n",
    "    train_err.append(np.mean(y_train != y_train_pred))\n",
    "    test_err.append(np.mean(y_test != y_test_pred))"
   ]
  },
  {
   "cell_type": "markdown",
   "metadata": {},
   "source": [
    "Построим график зависимости ошибки на обучающей и тестовой выборке от количества используемых деревьев."
   ]
  },
  {
   "cell_type": "code",
   "execution_count": 135,
   "metadata": {},
   "outputs": [
    {
     "data": {
      "image/png": "[encoded data removed]",
      "text/plain": [
       "<Figure size 432x288 with 1 Axes>"
      ]
     },
     "metadata": {
      "needs_background": "light"
     },
     "output_type": "display_data"
    }
   ],
   "source": [
    "plt.plot(trees_arr, train_err, 'b-o', label = 'train')\n",
    "plt.plot(trees_arr, test_err, 'r-o', label = 'test')\n",
    "plt.title('Error vs. trees')\n",
    "plt.xlabel('trees')\n",
    "plt.ylabel('error')\n",
    "plt.legend()\n",
    "pass"
   ]
  },
  {
   "cell_type": "markdown",
   "metadata": {},
   "source": [
    "Минимальное значение ошибки"
   ]
  },
  {
   "cell_type": "code",
   "execution_count": 137,
   "metadata": {},
   "outputs": [
    {
     "name": "stdout",
     "output_type": "stream",
     "text": [
      "0.023022185014650483 0.041015625\n"
     ]
    }
   ],
   "source": [
    "min_train_err = np.min(train_err)\n",
    "min_test_err = np.min(test_err)\n",
    "print(min_train_err, min_test_err)"
   ]
  },
  {
   "cell_type": "markdown",
   "metadata": {},
   "source": [
    "Оптимальное значение количества деревьев"
   ]
  },
  {
   "cell_type": "code",
   "execution_count": 138,
   "metadata": {},
   "outputs": [
    {
     "name": "stdout",
     "output_type": "stream",
     "text": [
      "[100]\n"
     ]
    }
   ],
   "source": [
    "trees_opt = trees_arr[test_err == min_test_err]\n",
    "print(trees_opt)"
   ]
  },
  {
   "cell_type": "markdown",
   "metadata": {},
   "source": [
    "##  GBT"
   ]
  },
  {
   "cell_type": "markdown",
   "metadata": {},
   "source": [
    "Подберём оптимальное количество деревьев для GBT."
   ]
  },
  {
   "cell_type": "code",
   "execution_count": 139,
   "metadata": {},
   "outputs": [],
   "source": [
    "trees_arr = np.arange(10,200,10)\n",
    "test_err = []\n",
    "train_err = []\n",
    "for trees in trees_arr:\n",
    "    gbt = ensemble.GradientBoostingClassifier(n_estimators = trees)\n",
    "    gbt.fit(X_train, y_train)\n",
    "\n",
    "    y_train_pred = gbt.predict(X_train)\n",
    "    y_test_pred =gbt.predict(X_test)\n",
    "    train_err.append(np.mean(y_train != y_train_pred))\n",
    "    test_err.append(np.mean(y_test != y_test_pred))"
   ]
  },
  {
   "cell_type": "markdown",
   "metadata": {},
   "source": [
    "Построим график зависимости ошибки на обучающей и тестовой выборке от количества используемых деревьев."
   ]
  },
  {
   "cell_type": "code",
   "execution_count": 140,
   "metadata": {},
   "outputs": [
    {
     "data": {
      "image/png": "[encoded data removed]",
      "text/plain": [
       "<Figure size 432x288 with 1 Axes>"
      ]
     },
     "metadata": {
      "needs_background": "light"
     },
     "output_type": "display_data"
    }
   ],
   "source": [
    "plt.plot(trees_arr, train_err, 'b-o', label = 'train')\n",
    "plt.plot(trees_arr, test_err, 'r-o', label = 'test')\n",
    "plt.title('Error vs. trees')\n",
    "plt.xlabel('trees')\n",
    "plt.ylabel('error')\n",
    "plt.legend()\n",
    "pass"
   ]
  },
  {
   "cell_type": "markdown",
   "metadata": {},
   "source": [
    "Минимальное значение ошибки"
   ]
  },
  {
   "cell_type": "code",
   "execution_count": 141,
   "metadata": {},
   "outputs": [
    {
     "name": "stdout",
     "output_type": "stream",
     "text": [
      "0.004813729593972373 0.0341796875\n"
     ]
    }
   ],
   "source": [
    "min_train_err = np.min(train_err)\n",
    "min_test_err = np.min(test_err)\n",
    "print(min_train_err, min_test_err)"
   ]
  },
  {
   "cell_type": "markdown",
   "metadata": {},
   "source": [
    "Оптимальное значение количества деревьев"
   ]
  },
  {
   "cell_type": "code",
   "execution_count": 142,
   "metadata": {},
   "outputs": [
    {
     "name": "stdout",
     "output_type": "stream",
     "text": [
      "[70]\n"
     ]
    }
   ],
   "source": [
    "trees_opt = trees_arr[test_err == min_test_err]\n",
    "print(trees_opt)"
   ]
  },
  {
   "cell_type": "markdown",
   "metadata": {},
   "source": [
    "# Выводы"
   ]
  },
  {
   "cell_type": "markdown",
   "metadata": {},
   "source": [
    "При количестве деревьев более 50 наблюдается переобучение и увеличение ошибки на тестовой выборке."
   ]
  },
  {
   "cell_type": "markdown",
   "metadata": {},
   "source": [
    "# Лабораторная работа №4"
   ]
  },
  {
   "cell_type": "markdown",
   "metadata": {},
   "source": [
    "# PCA"
   ]
  },
  {
   "cell_type": "markdown",
   "metadata": {},
   "source": [
    "### PCA и Random Forests"
   ]
  },
  {
   "cell_type": "markdown",
   "metadata": {},
   "source": [
    "Подберем оптимальные значения компонент для PCA и посчитаем ошибки на обучающей и тестовой выборках."
   ]
  },
  {
   "cell_type": "code",
   "execution_count": 149,
   "metadata": {},
   "outputs": [],
   "source": [
    "from sklearn.decomposition import PCA"
   ]
  },
  {
   "cell_type": "code",
   "execution_count": 305,
   "metadata": {},
   "outputs": [],
   "source": [
    "arr_components = [1,2,3,5,7,9,11,15,17,21,25]\n",
    "test_err = []\n",
    "train_err = []\n",
    "for com in arr_components:\n",
    "    pca = PCA(n_components = com)\n",
    "    pca.fit(X_train)\n",
    "    new_X_train = pca.transform(X_train)\n",
    "    new_X_test = pca.transform(X_test)\n",
    "    rf = ensemble.RandomForestClassifier(n_estimators = 40, random_state = 21)\n",
    "    rf.fit(new_X_train, y_train)\n",
    "\n",
    "    y_train_pred = rf.predict(new_X_train)\n",
    "    y_test_pred = rf.predict(new_X_test)\n",
    "    train_err.append(np.mean(y_train != y_train_pred))\n",
    "    test_err.append(np.mean(y_test != y_test_pred))"
   ]
  },
  {
   "cell_type": "markdown",
   "metadata": {},
   "source": [
    "Построим графики зависимости ошибки от количества компонент:"
   ]
  },
  {
   "cell_type": "code",
   "execution_count": 306,
   "metadata": {},
   "outputs": [
    {
     "data": {
      "image/png": "[encoded data removed]",
      "text/plain": [
       "<Figure size 432x288 with 1 Axes>"
      ]
     },
     "metadata": {
      "needs_background": "light"
     },
     "output_type": "display_data"
    }
   ],
   "source": [
    "plt.plot(train_err, '-o', label = 'train error')\n",
    "plt.plot(test_err, '-o', label = 'test error')\n",
    "plt.xticks(range(len(arr_components)), arr_components)\n",
    "plt.xlabel('components')\n",
    "plt.ylabel('error')\n",
    "plt.legend()\n",
    "pass"
   ]
  },
  {
   "cell_type": "markdown",
   "metadata": {},
   "source": [
    "Минимальное значение ошибки:"
   ]
  },
  {
   "cell_type": "code",
   "execution_count": 307,
   "metadata": {},
   "outputs": [
    {
     "name": "stdout",
     "output_type": "stream",
     "text": [
      "0.0002092925910422771 0.0380859375\n"
     ]
    }
   ],
   "source": [
    "min_train_err = np.min(train_err)\n",
    "min_test_err = np.min(test_err)\n",
    "print(min_train_err, min_test_err)"
   ]
  },
  {
   "cell_type": "markdown",
   "metadata": {},
   "source": [
    "Оптимальное число компонент:"
   ]
  },
  {
   "cell_type": "code",
   "execution_count": 308,
   "metadata": {},
   "outputs": [
    {
     "name": "stdout",
     "output_type": "stream",
     "text": [
      "7\n"
     ]
    }
   ],
   "source": [
    "index = test_err.index(min_test_err)\n",
    "n_comp_opt = arr_components[index]\n",
    "print(n_comp_opt)"
   ]
  },
  {
   "cell_type": "markdown",
   "metadata": {},
   "source": [
    "### Вывод "
   ]
  },
  {
   "cell_type": "markdown",
   "metadata": {},
   "source": [
    "Ошибка на тестовой выборке повысилась, точность классификации понизилась. Использование PCA не улучшило результат. При минимально возможном количистве компонент ошибка на обучающей выборке равна нулю. Однако, с увеличением количества компонент ошибка на тестовой выборке уменьшается. Лучший результат достигается при количестве компонент равном 7."
   ]
  },
  {
   "cell_type": "markdown",
   "metadata": {},
   "source": [
    "### PCA и нейронная сеть "
   ]
  },
  {
   "cell_type": "markdown",
   "metadata": {},
   "source": [
    "Применим PCA с нейронной сетью:"
   ]
  },
  {
   "cell_type": "code",
   "execution_count": 314,
   "metadata": {},
   "outputs": [],
   "source": [
    "arr_components = np.arange(1,25,2)\n",
    "test_err = []\n",
    "train_err = []\n",
    "for com in arr_components:\n",
    "    pca = PCA(n_components = com)\n",
    "    pca.fit(X_train)\n",
    "    \n",
    "    new_X_train = pca.transform(X_train)\n",
    "    new_X_test = pca.transform(X_test)\n",
    "    mlp_model = MLPClassifier(alpha = 0.12742749857031335, hidden_layer_sizes = (160,), \n",
    "                              solver = 'lbfgs', activation = 'logistic', random_state = 21)\n",
    "    mlp_model.fit(new_X_train, y_train)\n",
    "\n",
    "    y_train_pred = mlp_model.predict(new_X_train)\n",
    "    y_test_pred = mlp_model.predict(new_X_test)\n",
    "    train_err.append(np.mean(y_train != y_train_pred))\n",
    "    test_err.append(np.mean(y_test != y_test_pred))\n"
   ]
  },
  {
   "cell_type": "code",
   "execution_count": 315,
   "metadata": {},
   "outputs": [
    {
     "data": {
      "image/png": "[encoded data removed]",
      "text/plain": [
       "<Figure size 432x288 with 1 Axes>"
      ]
     },
     "metadata": {
      "needs_background": "light"
     },
     "output_type": "display_data"
    }
   ],
   "source": [
    "plt.plot(train_err, '-o', label = 'train error')\n",
    "plt.plot(test_err, '-o', label = 'test error')\n",
    "plt.xticks(range(len(arr_components)), arr_components)\n",
    "plt.xlabel('components')\n",
    "plt.ylabel('error')\n",
    "plt.legend()\n",
    "pass"
   ]
  },
  {
   "cell_type": "code",
   "execution_count": 316,
   "metadata": {},
   "outputs": [
    {
     "name": "stdout",
     "output_type": "stream",
     "text": [
      "0.0008371703641691084 0.03369140625\n"
     ]
    }
   ],
   "source": [
    "min_train_err = np.min(train_err)\n",
    "min_test_err = np.min(test_err)\n",
    "print(min_train_err, min_test_err)"
   ]
  },
  {
   "cell_type": "code",
   "execution_count": 317,
   "metadata": {},
   "outputs": [
    {
     "name": "stdout",
     "output_type": "stream",
     "text": [
      "11\n"
     ]
    }
   ],
   "source": [
    "index = test_err.index(min_test_err)\n",
    "n_comp_opt = arr_components[index]\n",
    "print(n_comp_opt)"
   ]
  },
  {
   "cell_type": "markdown",
   "metadata": {},
   "source": [
    "### Вывод "
   ]
  },
  {
   "cell_type": "markdown",
   "metadata": {},
   "source": [
    "Ошибка на тестовой выборке почти не изменилась. Использование PCA не улучшило результат. Однако, PCA в данном случае позволяет значительно уменьшить размерность данных, не понеся потерей в точности. Лучший результат достигается при количестве компонент равном 11."
   ]
  },
  {
   "cell_type": "markdown",
   "metadata": {},
   "source": [
    "В заключении можно сказать, что лучше всех на представленных данных работают Random Forests и нейронная сеть с одним скрытым слоем. Лучшие результаты достигаются при количестве деревьев равном 40 для Random Forests и 160 нейронами и alpha=0.12742749857031335 для нейронной сети. При этом, возможно применение PCA для нейронной сети без значимой потери в точности."
   ]
  },
  {
   "cell_type": "code",
   "execution_count": null,
   "metadata": {},
   "outputs": [],
   "source": []
  }
 ],
 "metadata": {
  "kernelspec": {
   "display_name": "Python 3",
   "language": "python",
   "name": "python3"
  },
  "language_info": {
   "codemirror_mode": {
    "name": "ipython",
    "version": 3
   },
   "file_extension": ".py",
   "mimetype": "text/x-python",
   "name": "python",
   "nbconvert_exporter": "python",
   "pygments_lexer": "ipython3",
   "version": "3.7.1"
  }
 },
 "nbformat": 4,
 "nbformat_minor": 2
}
